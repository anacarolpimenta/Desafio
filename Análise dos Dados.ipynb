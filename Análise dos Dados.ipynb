{
  "nbformat": 4,
  "nbformat_minor": 0,
  "metadata": {
    "colab": {
      "name": "Análise dos Dados.ipynb",
      "provenance": [],
      "collapsed_sections": []
    },
    "kernelspec": {
      "name": "python3",
      "display_name": "Python 3"
    }
  },
  "cells": [
    {
      "cell_type": "markdown",
      "metadata": {
        "id": "YDPufl7ls2MV",
        "colab_type": "text"
      },
      "source": [
        "# *Desafio* Rocketmat - Análise do Banco de Dados HR Engagement Set Sales (2020)"
      ]
    },
    {
      "cell_type": "markdown",
      "metadata": {
        "id": "XJzG2ehOFsBr",
        "colab_type": "text"
      },
      "source": [
        "**Antes de Começar** iremos carregar os pacotes que iremos utilizar em nossa análise:\n",
        "\n",
        "\n",
        "1.   **Pandas**: Para carregar e manipular os dados;\n",
        "2.   **Matplotlib.pyplot**: Para plotar os gráficos;\n",
        "3.   **Seaborn**: Plotar gráficos\n",
        "4.   **Collections**: Para poder utilizar a função \"counter\", que cria um dicionário com o número de elementos;\n",
        "\n",
        "\n"
      ]
    },
    {
      "cell_type": "code",
      "metadata": {
        "id": "9tWZevwID2l8",
        "colab_type": "code",
        "colab": {
          "base_uri": "https://localhost:8080/",
          "height": 71
        },
        "outputId": "022404fd-cb45-40e7-e7f7-625429be4e7e"
      },
      "source": [
        "import pandas as pd\n",
        "import matplotlib.pyplot as plt\n",
        "import seaborn as sns\n",
        "import numpy as np\n",
        "import collections as clc\n",
        "#from collections import Counter "
      ],
      "execution_count": 2,
      "outputs": [
        {
          "output_type": "stream",
          "text": [
            "/usr/local/lib/python3.6/dist-packages/statsmodels/tools/_testing.py:19: FutureWarning: pandas.util.testing is deprecated. Use the functions in the public API at pandas.testing instead.\n",
            "  import pandas.util.testing as tm\n"
          ],
          "name": "stderr"
        }
      ]
    },
    {
      "cell_type": "markdown",
      "metadata": {
        "id": "8299L07TGaPX",
        "colab_type": "text"
      },
      "source": [
        "-------------"
      ]
    },
    {
      "cell_type": "markdown",
      "metadata": {
        "id": "OYjV1WwbGckP",
        "colab_type": "text"
      },
      "source": [
        "## Carregar o Banco de Dados"
      ]
    },
    {
      "cell_type": "markdown",
      "metadata": {
        "id": "AkEjEp2tEQZm",
        "colab_type": "text"
      },
      "source": [
        "*Carregar o banco de dados direto do meu GitHub*.\n",
        "> O banco de dados vai ser chamado de \"db\". Irei utilizar o pacote 'pandas' para carrega-lo.\n",
        "\n",
        "\n",
        "\n"
      ]
    },
    {
      "cell_type": "code",
      "metadata": {
        "id": "Lx-KWmDWD1w9",
        "colab_type": "code",
        "colab": {}
      },
      "source": [
        "url = 'https://raw.github.com/anacarolpimenta/Desafio-Rocketmat/master/HR_Engagement_Sat_Sales_UpdatedV4.0.csv'\n",
        "db = pd.read_csv(url)"
      ],
      "execution_count": 3,
      "outputs": []
    },
    {
      "cell_type": "markdown",
      "metadata": {
        "id": "7Md2v9wGswRE",
        "colab_type": "text"
      },
      "source": [
        "****"
      ]
    },
    {
      "cell_type": "markdown",
      "metadata": {
        "id": "2BeELoL0GjQ1",
        "colab_type": "text"
      },
      "source": [
        "## Breve exploração do Banco de Dados"
      ]
    },
    {
      "cell_type": "markdown",
      "metadata": {
        "id": "cD7hIWX0GxK3",
        "colab_type": "text"
      },
      "source": [
        "### **1)** Conferir formato do banco de dados:"
      ]
    },
    {
      "cell_type": "code",
      "metadata": {
        "id": "2wU21R1UFlih",
        "colab_type": "code",
        "colab": {
          "base_uri": "https://localhost:8080/",
          "height": 34
        },
        "outputId": "2b1bff8d-5bfe-40ae-f318-c987a5850d69"
      },
      "source": [
        "db.shape"
      ],
      "execution_count": null,
      "outputs": [
        {
          "output_type": "execute_result",
          "data": {
            "text/plain": [
              "(14999, 62)"
            ]
          },
          "metadata": {
            "tags": []
          },
          "execution_count": 3
        }
      ]
    },
    {
      "cell_type": "markdown",
      "metadata": {
        "id": "ypldA5dFGNNp",
        "colab_type": "text"
      },
      "source": [
        "Aqui posso conferir que o banco de dados tem 14.999 observações e 62 colunas;"
      ]
    },
    {
      "cell_type": "markdown",
      "metadata": {
        "id": "Uhqc5GVnG40R",
        "colab_type": "text"
      },
      "source": [
        "### **2)** Verificar o nome das colunas, das nossas variáveis"
      ]
    },
    {
      "cell_type": "code",
      "metadata": {
        "id": "utiVa12XGuni",
        "colab_type": "code",
        "colab": {
          "base_uri": "https://localhost:8080/",
          "height": 1000
        },
        "outputId": "db0e7ee6-9c40-4dbf-af0a-fd3369695b13"
      },
      "source": [
        "for col_name in db.columns:\n",
        "  print(col_name)"
      ],
      "execution_count": null,
      "outputs": [
        {
          "output_type": "stream",
          "text": [
            "ID\n",
            "Name\n",
            "Department\n",
            "GEO\n",
            "Role\n",
            "Rising_Star\n",
            "Will_Relocate\n",
            "Critical\n",
            "Trending Perf\n",
            "Talent_Level\n",
            "Validated_Talent_Level\n",
            "Percent_Remote\n",
            "EMP_Sat_OnPrem_1\n",
            "EMP_Sat_OnPrem_2\n",
            "EMP_Sat_OnPrem_3\n",
            "EMP_Sat_OnPrem_4\n",
            "EMP_Sat_OnPrem_5\n",
            "EMP_Sat_Remote_1\n",
            "EMP_Sat_Remote_2\n",
            "EMP_Sat_Remote_3\n",
            "EMP_Sat_Remote_4\n",
            "EMP_Sat_Remote_5\n",
            "EMP_Engagement_1\n",
            "EMP_Engagement_2\n",
            "EMP_Engagement_3\n",
            "EMP_Engagement_4\n",
            "EMP_Engagement_5\n",
            "last_evaluation\n",
            "number_project\n",
            "average_montly_hours\n",
            "time_spend_company\n",
            "Work_accident\n",
            "left_Company\n",
            "CSR Factor\n",
            "promotion_last_5years\n",
            "sales\n",
            "salary\n",
            "Gender\n",
            "LinkedIn_Hits\n",
            "Emp_Work_Status2\n",
            "Emp_Work_Status_3\n",
            "Emp_Work_Status_4\n",
            "Emp_Work_Status_5\n",
            "Emp_Identity\n",
            "Emp_Role\n",
            "Emp_Position\n",
            "Emp_Title\n",
            "Women_Leave\n",
            "Men_Leave\n",
            "Emp_Competitive_1\n",
            "Emp_Competitive_2\n",
            "Emp_Competitive_3\n",
            "Emp_Competitive_4\n",
            "Emp_Competitive_5\n",
            "Emp_Collaborative_1\n",
            "Emp_Collaborative_2\n",
            "Emp_Collaborative_3\n",
            "Emp_Collaborative_4\n",
            "Emp_Collaborative_5\n",
            "Sensor_StepCount\n",
            "Sensor_Heartbeat(Average/Min)\n",
            "Sensor_Proximity(1-highest/10-lowest)\n"
          ],
          "name": "stdout"
        }
      ]
    },
    {
      "cell_type": "markdown",
      "metadata": {
        "id": "KbJDD6_kHCs2",
        "colab_type": "text"
      },
      "source": [
        "> **2.1**) Podemos perceber que, das 62 variáveis:\n",
        "\n",
        "\n",
        "\n",
        "1.   Algumas possuem nome começando com letra maiuscula;\n",
        "\n",
        "2.   Tenho duas com caracteres especiais:\n",
        "*   Sensor_Heartbeat(Average/Min)\n",
        "*   Sensor_Proximity(1-highest/10-lowest)\n",
        "\n",
        "> Próximo passo, então, seria mudar o nome dessas variáveis. Dessa forma evito que haja qualquer problema futuro (na hora de fazer o modelo ou de salvar os dados);\n",
        "\n"
      ]
    },
    {
      "cell_type": "markdown",
      "metadata": {
        "id": "VcEFYZtjRlAS",
        "colab_type": "text"
      },
      "source": [
        "> Primeiro passo vai ser transformar todos os nomes para letras minusculas:"
      ]
    },
    {
      "cell_type": "code",
      "metadata": {
        "id": "CIDHT8fDRpdU",
        "colab_type": "code",
        "colab": {
          "base_uri": "https://localhost:8080/",
          "height": 1000
        },
        "outputId": "a92408e0-44ce-4eb0-d9ae-576cd6fd8962"
      },
      "source": [
        "db.columns = db.columns.str.lower()\n",
        "for col_name in db.columns:\n",
        "  print(col_name)"
      ],
      "execution_count": null,
      "outputs": [
        {
          "output_type": "stream",
          "text": [
            "id\n",
            "name\n",
            "department\n",
            "geo\n",
            "role\n",
            "rising_star\n",
            "will_relocate\n",
            "critical\n",
            "trending perf\n",
            "talent_level\n",
            "validated_talent_level\n",
            "percent_remote\n",
            "emp_sat_onprem_1\n",
            "emp_sat_onprem_2\n",
            "emp_sat_onprem_3\n",
            "emp_sat_onprem_4\n",
            "emp_sat_onprem_5\n",
            "emp_sat_remote_1\n",
            "emp_sat_remote_2\n",
            "emp_sat_remote_3\n",
            "emp_sat_remote_4\n",
            "emp_sat_remote_5\n",
            "emp_engagement_1\n",
            "emp_engagement_2\n",
            "emp_engagement_3\n",
            "emp_engagement_4\n",
            "emp_engagement_5\n",
            "last_evaluation\n",
            "number_project\n",
            "average_montly_hours\n",
            "time_spend_company\n",
            "work_accident\n",
            "left_company\n",
            "csr factor\n",
            "promotion_last_5years\n",
            "sales\n",
            "salary\n",
            "gender\n",
            "linkedin_hits\n",
            "emp_work_status2\n",
            "emp_work_status_3\n",
            "emp_work_status_4\n",
            "emp_work_status_5\n",
            "emp_identity\n",
            "emp_role\n",
            "emp_position\n",
            "emp_title\n",
            "women_leave\n",
            "men_leave\n",
            "emp_competitive_1\n",
            "emp_competitive_2\n",
            "emp_competitive_3\n",
            "emp_competitive_4\n",
            "emp_competitive_5\n",
            "emp_collaborative_1\n",
            "emp_collaborative_2\n",
            "emp_collaborative_3\n",
            "emp_collaborative_4\n",
            "emp_collaborative_5\n",
            "sensor_stepcount\n",
            "sensor_heartbeat(average/min)\n",
            "sensor_proximity(1-highest/10-lowest)\n"
          ],
          "name": "stdout"
        }
      ]
    },
    {
      "cell_type": "markdown",
      "metadata": {
        "id": "6ncLh27jH_yd",
        "colab_type": "text"
      },
      "source": [
        "> Agora, irei criar ***outra*** variável para cada alteração que fizer. Desse jeito evito que, caso cometa algum erro, exista a chance de danificar os dados originais (o que me obrigaria a reiniciar o código)"
      ]
    },
    {
      "cell_type": "code",
      "metadata": {
        "id": "oaO4CfTbH7D1",
        "colab_type": "code",
        "colab": {
          "base_uri": "https://localhost:8080/",
          "height": 170
        },
        "outputId": "8b94e285-23ed-48c1-867c-dfabfc1981e5"
      },
      "source": [
        "db[\"sensor_heartbeat_avg_min\"] = db[\"sensor_heartbeat(average/min)\"]\n",
        "db[\"sensor_heartbeat_avg_min\"].describe() # Conferindo "
      ],
      "execution_count": null,
      "outputs": [
        {
          "output_type": "execute_result",
          "data": {
            "text/plain": [
              "count    14999.000000\n",
              "mean        77.967198\n",
              "std          7.252848\n",
              "min         60.000000\n",
              "25%         75.000000\n",
              "50%         78.000000\n",
              "75%         85.000000\n",
              "max         90.000000\n",
              "Name: sensor_heartbeat_avg_min, dtype: float64"
            ]
          },
          "metadata": {
            "tags": []
          },
          "execution_count": 6
        }
      ]
    },
    {
      "cell_type": "code",
      "metadata": {
        "id": "YWzYu3D2IfDm",
        "colab_type": "code",
        "colab": {
          "base_uri": "https://localhost:8080/",
          "height": 170
        },
        "outputId": "31ba8474-5e81-4a4b-d9c2-e8d9c971284d"
      },
      "source": [
        "db[\"sensor_proximity_1-high_10-low\"] = db[\"sensor_proximity(1-highest/10-lowest)\"]\n",
        "db[\"sensor_proximity_1-high_10-low\"].describe() # Conferindo"
      ],
      "execution_count": null,
      "outputs": [
        {
          "output_type": "execute_result",
          "data": {
            "text/plain": [
              "count    14999.000000\n",
              "mean         6.399360\n",
              "std          2.588091\n",
              "min          1.000000\n",
              "25%          5.000000\n",
              "50%          7.000000\n",
              "75%          8.000000\n",
              "max         10.000000\n",
              "Name: sensor_proximity_1-high_10-low, dtype: float64"
            ]
          },
          "metadata": {
            "tags": []
          },
          "execution_count": 7
        }
      ]
    },
    {
      "cell_type": "markdown",
      "metadata": {
        "id": "clsisut8KgWE",
        "colab_type": "text"
      },
      "source": [
        "###**3)** Checando quais colunas tem NA's:"
      ]
    },
    {
      "cell_type": "code",
      "metadata": {
        "id": "p3Tve1PXKgE_",
        "colab_type": "code",
        "colab": {
          "base_uri": "https://localhost:8080/",
          "height": 204
        },
        "outputId": "00a64ed5-607e-40b3-cfc6-7a8385835d2f"
      },
      "source": [
        "for col in db.loc[:, db.isnull().any()].columns:\n",
        "  print(col)"
      ],
      "execution_count": null,
      "outputs": [
        {
          "output_type": "stream",
          "text": [
            "name\n",
            "rising_star\n",
            "critical\n",
            "emp_sat_onprem_1\n",
            "emp_sat_onprem_2\n",
            "emp_sat_onprem_3\n",
            "emp_sat_onprem_4\n",
            "emp_sat_onprem_5\n",
            "csr factor\n",
            "women_leave\n",
            "men_leave\n"
          ],
          "name": "stdout"
        }
      ]
    },
    {
      "cell_type": "markdown",
      "metadata": {
        "id": "nGlHUkGKP7I5",
        "colab_type": "text"
      },
      "source": [
        "### 4) Analisar e tratar as colunas que possuem NA's\n",
        "\n",
        "Objetivo aqui é identificar como se comportam os NA's das variáveis"
      ]
    },
    {
      "cell_type": "markdown",
      "metadata": {
        "id": "CPbJat4ATWOr",
        "colab_type": "text"
      },
      "source": [
        "\n",
        "\n",
        "##### **1)**  Name:\n",
        "\n",
        "\n",
        "\n"
      ]
    },
    {
      "cell_type": "code",
      "metadata": {
        "id": "w277zbWEQr7S",
        "colab_type": "code",
        "colab": {
          "base_uri": "https://localhost:8080/",
          "height": 34
        },
        "outputId": "7d619f6e-67ac-4834-e8a6-d2018b59d988"
      },
      "source": [
        "db[\"name\"].isnull().sum()\n"
      ],
      "execution_count": null,
      "outputs": [
        {
          "output_type": "execute_result",
          "data": {
            "text/plain": [
              "2"
            ]
          },
          "metadata": {
            "tags": []
          },
          "execution_count": 9
        }
      ]
    },
    {
      "cell_type": "markdown",
      "metadata": {
        "id": "mLIhETdZStvm",
        "colab_type": "text"
      },
      "source": [
        "A variável **nome** apresenta 2 células com o valor **NA**. No entanto, como essa variável não influenciará em nenhuma de nossas análises (nem no modelo preditivo), e como os NA's dessa variável não se estendem para outras colunas, irei substituir os NA's por \"Anonimo\""
      ]
    },
    {
      "cell_type": "code",
      "metadata": {
        "id": "PB5IS3-PSrYn",
        "colab_type": "code",
        "colab": {
          "base_uri": "https://localhost:8080/",
          "height": 34
        },
        "outputId": "d8f42ff8-ca25-43db-ce51-c542cdf7ef16"
      },
      "source": [
        "db[\"name2\"] = db[\"name\"].fillna(\"anonimo\")\n",
        "\n",
        "# Conferindo se há algum NA sobrando:\n",
        "db[\"name2\"].isnull().sum()"
      ],
      "execution_count": null,
      "outputs": [
        {
          "output_type": "execute_result",
          "data": {
            "text/plain": [
              "0"
            ]
          },
          "metadata": {
            "tags": []
          },
          "execution_count": 10
        }
      ]
    },
    {
      "cell_type": "markdown",
      "metadata": {
        "id": "z58J7yLvTdaV",
        "colab_type": "text"
      },
      "source": [
        "\n",
        "\n",
        "##### **2**) Rising_Star:\n",
        "\n",
        "\"*Indicates the level of promise or promote-ability the employee has*\"\n",
        "\n",
        "\n"
      ]
    },
    {
      "cell_type": "code",
      "metadata": {
        "id": "IeUx6nD4Tlhu",
        "colab_type": "code",
        "colab": {
          "base_uri": "https://localhost:8080/",
          "height": 34
        },
        "outputId": "cde30fe0-3b6a-42c6-a467-22fc3cda801c"
      },
      "source": [
        "db[\"rising_star\"].isnull().sum()"
      ],
      "execution_count": null,
      "outputs": [
        {
          "output_type": "execute_result",
          "data": {
            "text/plain": [
              "14978"
            ]
          },
          "metadata": {
            "tags": []
          },
          "execution_count": 11
        }
      ]
    },
    {
      "cell_type": "code",
      "metadata": {
        "id": "0sgOTd8tegZj",
        "colab_type": "code",
        "colab": {
          "base_uri": "https://localhost:8080/",
          "height": 170
        },
        "outputId": "53e483b7-6651-4149-a7a4-103d57af429d"
      },
      "source": [
        "db[\"rising_star\"].describe()"
      ],
      "execution_count": null,
      "outputs": [
        {
          "output_type": "execute_result",
          "data": {
            "text/plain": [
              "count    21.0\n",
              "mean      1.0\n",
              "std       0.0\n",
              "min       1.0\n",
              "25%       1.0\n",
              "50%       1.0\n",
              "75%       1.0\n",
              "max       1.0\n",
              "Name: rising_star, dtype: float64"
            ]
          },
          "metadata": {
            "tags": []
          },
          "execution_count": 12
        }
      ]
    },
    {
      "cell_type": "code",
      "metadata": {
        "id": "32CIn2V9T5LK",
        "colab_type": "code",
        "colab": {
          "base_uri": "https://localhost:8080/",
          "height": 34
        },
        "outputId": "9b414945-6731-4896-8a23-0d2d2c70dd4b"
      },
      "source": [
        "db[\"rising_star\"].unique().tolist()"
      ],
      "execution_count": null,
      "outputs": [
        {
          "output_type": "execute_result",
          "data": {
            "text/plain": [
              "[nan, 1.0]"
            ]
          },
          "metadata": {
            "tags": []
          },
          "execution_count": 13
        }
      ]
    },
    {
      "cell_type": "markdown",
      "metadata": {
        "id": "zwrexvGfUFc9",
        "colab_type": "text"
      },
      "source": [
        "A variável **rising_star** apresenta *14.978* células NA's. No entanto, acredito que sejam muitos NA's para ser simplesmente um caso de \"missing values\". Com isso em mente, irei trata-los da seguinte maneira:\n",
        "\n",
        "> Os valores presentes na variável são:\n",
        "\n",
        "\n",
        "*   1: 21\n",
        "*   NA's: 14.978\n",
        "\n",
        "Acredito que o 1 seja quem é promissor e que os valores NA's representem os que não sejam. Por isso, **transformarei os valores NA's em 0**.\n",
        "\n",
        "Dsse jeito, considero a variável:\n",
        "\n",
        "<b>\n",
        "\n",
        "1 - Sim\n",
        "\n",
        "<b>\n",
        "\n",
        "0 - Não\n",
        "\n",
        "\n"
      ]
    },
    {
      "cell_type": "code",
      "metadata": {
        "id": "qKHWmlmucIl4",
        "colab_type": "code",
        "colab": {
          "base_uri": "https://localhost:8080/",
          "height": 34
        },
        "outputId": "25ebf9de-dfd8-4c91-95e9-5b2d44c0e248"
      },
      "source": [
        "# Transformando NA em 0:\n",
        "db[\"rising_star_0\"] = db[\"rising_star\"].fillna(0)\n",
        "db[\"rising_star_0\"].isnull().sum()"
      ],
      "execution_count": null,
      "outputs": [
        {
          "output_type": "execute_result",
          "data": {
            "text/plain": [
              "0"
            ]
          },
          "metadata": {
            "tags": []
          },
          "execution_count": 14
        }
      ]
    },
    {
      "cell_type": "markdown",
      "metadata": {
        "id": "VJ1Zj-gMcjzC",
        "colab_type": "text"
      },
      "source": [
        "\n",
        "\n",
        "##### **3)** Critical\n",
        "\n",
        "\"*Is the employee critical to the organization?*\"\n",
        "\n"
      ]
    },
    {
      "cell_type": "code",
      "metadata": {
        "id": "LOFW_O41c8E8",
        "colab_type": "code",
        "colab": {
          "base_uri": "https://localhost:8080/",
          "height": 34
        },
        "outputId": "4a339463-41dd-4d39-bf9d-e4cffe80dc79"
      },
      "source": [
        "db['critical'].isnull().sum()"
      ],
      "execution_count": null,
      "outputs": [
        {
          "output_type": "execute_result",
          "data": {
            "text/plain": [
              "14519"
            ]
          },
          "metadata": {
            "tags": []
          },
          "execution_count": 15
        }
      ]
    },
    {
      "cell_type": "code",
      "metadata": {
        "id": "TC-6xRmBemYu",
        "colab_type": "code",
        "colab": {
          "base_uri": "https://localhost:8080/",
          "height": 170
        },
        "outputId": "932d9732-4f84-4500-e2d5-3d906d8c8b57"
      },
      "source": [
        "db[\"critical\"].describe()"
      ],
      "execution_count": null,
      "outputs": [
        {
          "output_type": "execute_result",
          "data": {
            "text/plain": [
              "count    480.0\n",
              "mean       1.0\n",
              "std        0.0\n",
              "min        1.0\n",
              "25%        1.0\n",
              "50%        1.0\n",
              "75%        1.0\n",
              "max        1.0\n",
              "Name: critical, dtype: float64"
            ]
          },
          "metadata": {
            "tags": []
          },
          "execution_count": 16
        }
      ]
    },
    {
      "cell_type": "code",
      "metadata": {
        "id": "9a27aYwcds6I",
        "colab_type": "code",
        "colab": {
          "base_uri": "https://localhost:8080/",
          "height": 34
        },
        "outputId": "c5eacff4-67a6-49cf-b0e4-0c5e1cfa2e1f"
      },
      "source": [
        "db['critical'].unique().tolist()"
      ],
      "execution_count": null,
      "outputs": [
        {
          "output_type": "execute_result",
          "data": {
            "text/plain": [
              "[1.0, nan]"
            ]
          },
          "metadata": {
            "tags": []
          },
          "execution_count": 17
        }
      ]
    },
    {
      "cell_type": "markdown",
      "metadata": {
        "id": "7fOjpnl_dvi_",
        "colab_type": "text"
      },
      "source": [
        "Podemos notar que temos 14.519 NA's.\n",
        "\n",
        "Assim como no \"*rising_star*\", acredito que o 1 seja aqueles considerados *fundamentais*, enquanto os NA's representam os que não são.\n",
        "\n",
        "Seguindo a lógica anterior, transformarei os NA's em 0.\n",
        "\n",
        "Temos:\n",
        "\n",
        "\n",
        "*   1: 480\n",
        "*   NA's: 14.519\n",
        "\n",
        "Dessa forma, \n",
        "\n",
        "\n",
        "*   **1 - Sim**\n",
        "*   **2 - Não**\n",
        "\n",
        "\n",
        "\n"
      ]
    },
    {
      "cell_type": "code",
      "metadata": {
        "id": "NRIZLB8wfER6",
        "colab_type": "code",
        "colab": {
          "base_uri": "https://localhost:8080/",
          "height": 34
        },
        "outputId": "c230248b-f474-46bb-f19f-1e2f4568f901"
      },
      "source": [
        "# Transformando NA's em 0:\n",
        "db[\"critical_0\"] = db[\"critical\"].fillna(0)\n",
        "db[\"critical_0\"].isnull().sum()"
      ],
      "execution_count": null,
      "outputs": [
        {
          "output_type": "execute_result",
          "data": {
            "text/plain": [
              "0"
            ]
          },
          "metadata": {
            "tags": []
          },
          "execution_count": 18
        }
      ]
    },
    {
      "cell_type": "markdown",
      "metadata": {
        "id": "f6zlRfstfRhJ",
        "colab_type": "text"
      },
      "source": [
        "##### **4)** EMP_Sat_OnPrem 1 - 5\n",
        "\n",
        "\"*One indicator from a survey that was sent to employees by a third party. \n",
        "On prem (On premise) means that the employee maintains a high percentage of work on the corporation’s physical work locations*\""
      ]
    },
    {
      "cell_type": "code",
      "metadata": {
        "id": "dKmPa7i4fQ7c",
        "colab_type": "code",
        "colab": {
          "base_uri": "https://localhost:8080/",
          "height": 102
        },
        "outputId": "09a2503f-e723-4e7b-effc-a2e091cf77ad"
      },
      "source": [
        "# Ver a quantidade de NA's:\n",
        "\n",
        "print(\"emp_sat_onprem_1: \", (db[\"emp_sat_onprem_1\"].isnull().sum()))\n",
        "print(\"emp_sat_onprem_2: \", (db[\"emp_sat_onprem_2\"].isnull().sum()))\n",
        "print(\"emp_sat_onprem_3: \", (db[\"emp_sat_onprem_3\"].isnull().sum()))\n",
        "print(\"emp_sat_onprem_4: \", (db[\"emp_sat_onprem_4\"].isnull().sum()))\n",
        "print(\"emp_sat_onprem_5: \", (db[\"emp_sat_onprem_5\"].isnull().sum()))"
      ],
      "execution_count": null,
      "outputs": [
        {
          "output_type": "stream",
          "text": [
            "emp_sat_onprem_1:  128\n",
            "emp_sat_onprem_2:  128\n",
            "emp_sat_onprem_3:  128\n",
            "emp_sat_onprem_4:  128\n",
            "emp_sat_onprem_5:  128\n"
          ],
          "name": "stdout"
        }
      ]
    },
    {
      "cell_type": "code",
      "metadata": {
        "id": "5wg8weplf4M3",
        "colab_type": "code",
        "colab": {
          "base_uri": "https://localhost:8080/",
          "height": 102
        },
        "outputId": "c15e98e2-e925-4f33-ada9-79cbf0cdecc9"
      },
      "source": [
        "# Ver valores Únicos:\n",
        "\n",
        "print(\"emp_sat_onprem_1: \", (db[\"emp_sat_onprem_1\"].unique().tolist()))\n",
        "print(\"emp_sat_onprem_2: \", (db[\"emp_sat_onprem_2\"].unique().tolist()))\n",
        "print(\"emp_sat_onprem_3: \", (db[\"emp_sat_onprem_3\"].unique().tolist()))\n",
        "print(\"emp_sat_onprem_4: \", (db[\"emp_sat_onprem_4\"].unique().tolist()))\n",
        "print(\"emp_sat_onprem_5: \", (db[\"emp_sat_onprem_5\"].unique().tolist()))"
      ],
      "execution_count": null,
      "outputs": [
        {
          "output_type": "stream",
          "text": [
            "emp_sat_onprem_1:  [3.0, nan]\n",
            "emp_sat_onprem_2:  [3.0, 1.0, nan]\n",
            "emp_sat_onprem_3:  [4.0, 2.0, nan]\n",
            "emp_sat_onprem_4:  [3.0, 1.0, nan]\n",
            "emp_sat_onprem_5:  [5.0, 1.0, 4.0, nan]\n"
          ],
          "name": "stdout"
        }
      ]
    },
    {
      "cell_type": "code",
      "metadata": {
        "id": "q-Ha-XyJhebn",
        "colab_type": "code",
        "colab": {
          "base_uri": "https://localhost:8080/",
          "height": 111
        },
        "outputId": "3be07e44-e2af-400c-9590-f985036168ea"
      },
      "source": [
        "# Verificando o número de observações válids: \n",
        "pd.crosstab(db.emp_sat_onprem_1, columns = \"Valores\", normalize = True)\n"
      ],
      "execution_count": null,
      "outputs": [
        {
          "output_type": "execute_result",
          "data": {
            "text/html": [
              "<div>\n",
              "<style scoped>\n",
              "    .dataframe tbody tr th:only-of-type {\n",
              "        vertical-align: middle;\n",
              "    }\n",
              "\n",
              "    .dataframe tbody tr th {\n",
              "        vertical-align: top;\n",
              "    }\n",
              "\n",
              "    .dataframe thead th {\n",
              "        text-align: right;\n",
              "    }\n",
              "</style>\n",
              "<table border=\"1\" class=\"dataframe\">\n",
              "  <thead>\n",
              "    <tr style=\"text-align: right;\">\n",
              "      <th>col_0</th>\n",
              "      <th>Valores</th>\n",
              "    </tr>\n",
              "    <tr>\n",
              "      <th>emp_sat_onprem_1</th>\n",
              "      <th></th>\n",
              "    </tr>\n",
              "  </thead>\n",
              "  <tbody>\n",
              "    <tr>\n",
              "      <th>3.0</th>\n",
              "      <td>1.0</td>\n",
              "    </tr>\n",
              "  </tbody>\n",
              "</table>\n",
              "</div>"
            ],
            "text/plain": [
              "col_0             Valores\n",
              "emp_sat_onprem_1         \n",
              "3.0                   1.0"
            ]
          },
          "metadata": {
            "tags": []
          },
          "execution_count": 21
        }
      ]
    },
    {
      "cell_type": "code",
      "metadata": {
        "id": "-lVdmKdxjjfR",
        "colab_type": "code",
        "colab": {
          "base_uri": "https://localhost:8080/",
          "height": 142
        },
        "outputId": "ad784684-0448-477f-e564-ddd66a7569f7"
      },
      "source": [
        "pd.crosstab(db.emp_sat_onprem_2, columns = \"Valores\", normalize = True)\n"
      ],
      "execution_count": null,
      "outputs": [
        {
          "output_type": "execute_result",
          "data": {
            "text/html": [
              "<div>\n",
              "<style scoped>\n",
              "    .dataframe tbody tr th:only-of-type {\n",
              "        vertical-align: middle;\n",
              "    }\n",
              "\n",
              "    .dataframe tbody tr th {\n",
              "        vertical-align: top;\n",
              "    }\n",
              "\n",
              "    .dataframe thead th {\n",
              "        text-align: right;\n",
              "    }\n",
              "</style>\n",
              "<table border=\"1\" class=\"dataframe\">\n",
              "  <thead>\n",
              "    <tr style=\"text-align: right;\">\n",
              "      <th>col_0</th>\n",
              "      <th>Valores</th>\n",
              "    </tr>\n",
              "    <tr>\n",
              "      <th>emp_sat_onprem_2</th>\n",
              "      <th></th>\n",
              "    </tr>\n",
              "  </thead>\n",
              "  <tbody>\n",
              "    <tr>\n",
              "      <th>1.0</th>\n",
              "      <td>0.134019</td>\n",
              "    </tr>\n",
              "    <tr>\n",
              "      <th>3.0</th>\n",
              "      <td>0.865981</td>\n",
              "    </tr>\n",
              "  </tbody>\n",
              "</table>\n",
              "</div>"
            ],
            "text/plain": [
              "col_0              Valores\n",
              "emp_sat_onprem_2          \n",
              "1.0               0.134019\n",
              "3.0               0.865981"
            ]
          },
          "metadata": {
            "tags": []
          },
          "execution_count": 22
        }
      ]
    },
    {
      "cell_type": "code",
      "metadata": {
        "id": "7__gScjcjlTY",
        "colab_type": "code",
        "colab": {
          "base_uri": "https://localhost:8080/",
          "height": 142
        },
        "outputId": "88c6f2bd-e9e8-452b-dc04-715586cd4660"
      },
      "source": [
        "pd.crosstab(db.emp_sat_onprem_3, columns = \"Valores\", normalize = True)\n"
      ],
      "execution_count": null,
      "outputs": [
        {
          "output_type": "execute_result",
          "data": {
            "text/html": [
              "<div>\n",
              "<style scoped>\n",
              "    .dataframe tbody tr th:only-of-type {\n",
              "        vertical-align: middle;\n",
              "    }\n",
              "\n",
              "    .dataframe tbody tr th {\n",
              "        vertical-align: top;\n",
              "    }\n",
              "\n",
              "    .dataframe thead th {\n",
              "        text-align: right;\n",
              "    }\n",
              "</style>\n",
              "<table border=\"1\" class=\"dataframe\">\n",
              "  <thead>\n",
              "    <tr style=\"text-align: right;\">\n",
              "      <th>col_0</th>\n",
              "      <th>Valores</th>\n",
              "    </tr>\n",
              "    <tr>\n",
              "      <th>emp_sat_onprem_3</th>\n",
              "      <th></th>\n",
              "    </tr>\n",
              "  </thead>\n",
              "  <tbody>\n",
              "    <tr>\n",
              "      <th>2.0</th>\n",
              "      <td>0.134019</td>\n",
              "    </tr>\n",
              "    <tr>\n",
              "      <th>4.0</th>\n",
              "      <td>0.865981</td>\n",
              "    </tr>\n",
              "  </tbody>\n",
              "</table>\n",
              "</div>"
            ],
            "text/plain": [
              "col_0              Valores\n",
              "emp_sat_onprem_3          \n",
              "2.0               0.134019\n",
              "4.0               0.865981"
            ]
          },
          "metadata": {
            "tags": []
          },
          "execution_count": 23
        }
      ]
    },
    {
      "cell_type": "code",
      "metadata": {
        "id": "FZhfgIH4jmOe",
        "colab_type": "code",
        "colab": {
          "base_uri": "https://localhost:8080/",
          "height": 142
        },
        "outputId": "44944646-a749-41cd-e85d-b45f22a4391d"
      },
      "source": [
        "pd.crosstab(db.emp_sat_onprem_4, columns = \"Valores\", normalize = True)\n"
      ],
      "execution_count": null,
      "outputs": [
        {
          "output_type": "execute_result",
          "data": {
            "text/html": [
              "<div>\n",
              "<style scoped>\n",
              "    .dataframe tbody tr th:only-of-type {\n",
              "        vertical-align: middle;\n",
              "    }\n",
              "\n",
              "    .dataframe tbody tr th {\n",
              "        vertical-align: top;\n",
              "    }\n",
              "\n",
              "    .dataframe thead th {\n",
              "        text-align: right;\n",
              "    }\n",
              "</style>\n",
              "<table border=\"1\" class=\"dataframe\">\n",
              "  <thead>\n",
              "    <tr style=\"text-align: right;\">\n",
              "      <th>col_0</th>\n",
              "      <th>Valores</th>\n",
              "    </tr>\n",
              "    <tr>\n",
              "      <th>emp_sat_onprem_4</th>\n",
              "      <th></th>\n",
              "    </tr>\n",
              "  </thead>\n",
              "  <tbody>\n",
              "    <tr>\n",
              "      <th>1.0</th>\n",
              "      <td>0.134019</td>\n",
              "    </tr>\n",
              "    <tr>\n",
              "      <th>3.0</th>\n",
              "      <td>0.865981</td>\n",
              "    </tr>\n",
              "  </tbody>\n",
              "</table>\n",
              "</div>"
            ],
            "text/plain": [
              "col_0              Valores\n",
              "emp_sat_onprem_4          \n",
              "1.0               0.134019\n",
              "3.0               0.865981"
            ]
          },
          "metadata": {
            "tags": []
          },
          "execution_count": 24
        }
      ]
    },
    {
      "cell_type": "code",
      "metadata": {
        "id": "lO6Bnfuxjnph",
        "colab_type": "code",
        "colab": {
          "base_uri": "https://localhost:8080/",
          "height": 173
        },
        "outputId": "7120d5a4-81e2-41d3-d643-542952c0d49a"
      },
      "source": [
        "pd.crosstab(db.emp_sat_onprem_5, columns = \"Valores\", normalize = True)\n"
      ],
      "execution_count": null,
      "outputs": [
        {
          "output_type": "execute_result",
          "data": {
            "text/html": [
              "<div>\n",
              "<style scoped>\n",
              "    .dataframe tbody tr th:only-of-type {\n",
              "        vertical-align: middle;\n",
              "    }\n",
              "\n",
              "    .dataframe tbody tr th {\n",
              "        vertical-align: top;\n",
              "    }\n",
              "\n",
              "    .dataframe thead th {\n",
              "        text-align: right;\n",
              "    }\n",
              "</style>\n",
              "<table border=\"1\" class=\"dataframe\">\n",
              "  <thead>\n",
              "    <tr style=\"text-align: right;\">\n",
              "      <th>col_0</th>\n",
              "      <th>Valores</th>\n",
              "    </tr>\n",
              "    <tr>\n",
              "      <th>emp_sat_onprem_5</th>\n",
              "      <th></th>\n",
              "    </tr>\n",
              "  </thead>\n",
              "  <tbody>\n",
              "    <tr>\n",
              "      <th>1.0</th>\n",
              "      <td>0.134019</td>\n",
              "    </tr>\n",
              "    <tr>\n",
              "      <th>4.0</th>\n",
              "      <td>0.520274</td>\n",
              "    </tr>\n",
              "    <tr>\n",
              "      <th>5.0</th>\n",
              "      <td>0.345706</td>\n",
              "    </tr>\n",
              "  </tbody>\n",
              "</table>\n",
              "</div>"
            ],
            "text/plain": [
              "col_0              Valores\n",
              "emp_sat_onprem_5          \n",
              "1.0               0.134019\n",
              "4.0               0.520274\n",
              "5.0               0.345706"
            ]
          },
          "metadata": {
            "tags": []
          },
          "execution_count": 25
        }
      ]
    },
    {
      "cell_type": "markdown",
      "metadata": {
        "id": "h1YSsaZjgYD5",
        "colab_type": "text"
      },
      "source": [
        "Aqui não irei transformar os NA's em 0: essa variável não possui uma descrição clara do que sua escala significa. Levando em consideração que existem 14.871 observações com esses valores, em cada variável:\n",
        "\n",
        "\n",
        "\n",
        "*   emp_sat_onprem_1: *3* \n",
        "*   emp_sat_onprem_2: *1 e 3* \n",
        "*   emp_sat_onprem_3: *2 e 4*\n",
        "*   emp_sat_onprem_4: *1 e 3*\n",
        "*   emp_sat_onprem_5: *1, 4 e 5*\n",
        "\n",
        "Conclui-se que a \"emp_sat_onprem_1\" comporta-se como uma constante. Quanto ao resto das variáveis, \"emp_sat_onprem 2 - 5\": não há nada que me indique o que esses valores representam.\n",
        "\n",
        "A descrição da variável diz que: \n",
        "> \"On prem (On premise) means that the employee maintains a high percentage of work on the corporation’s physical work locations\"\n",
        "\n",
        "Mas, o que essa escala significa? Não tem uma legenda para essa variável. Por tanto, descartarei essas variáveis da análise.\n",
        "\n",
        "\n"
      ]
    },
    {
      "cell_type": "markdown",
      "metadata": {
        "id": "uiHwVXeGj09e",
        "colab_type": "text"
      },
      "source": [
        "\n",
        "\n",
        "##### **5)** CSR Factor\n",
        "\n",
        "Sua descrição indica que a variável deve ser ignorada. Portanto irei descarta-la."
      ]
    },
    {
      "cell_type": "markdown",
      "metadata": {
        "id": "EsR2TUQskBVn",
        "colab_type": "text"
      },
      "source": [
        "\n",
        "\n",
        "##### **6)** Women_Leave\n",
        "\n",
        "*Women who left the company*\n",
        "\n"
      ]
    },
    {
      "cell_type": "code",
      "metadata": {
        "id": "nYuFmomPgWsK",
        "colab_type": "code",
        "colab": {
          "base_uri": "https://localhost:8080/",
          "height": 34
        },
        "outputId": "51c416ba-d8d7-45f8-e558-267b243984d3"
      },
      "source": [
        "db[\"women_leave\"].isnull().sum()"
      ],
      "execution_count": null,
      "outputs": [
        {
          "output_type": "execute_result",
          "data": {
            "text/plain": [
              "7403"
            ]
          },
          "metadata": {
            "tags": []
          },
          "execution_count": 26
        }
      ]
    },
    {
      "cell_type": "code",
      "metadata": {
        "id": "drOiiZg6kbdF",
        "colab_type": "code",
        "colab": {
          "base_uri": "https://localhost:8080/",
          "height": 170
        },
        "outputId": "71b58a88-5c64-434e-d3d4-135c38cd1314"
      },
      "source": [
        "db[\"women_leave\"].describe()"
      ],
      "execution_count": null,
      "outputs": [
        {
          "output_type": "execute_result",
          "data": {
            "text/plain": [
              "count    7596.000000\n",
              "mean        0.707741\n",
              "std         0.454831\n",
              "min         0.000000\n",
              "25%         0.000000\n",
              "50%         1.000000\n",
              "75%         1.000000\n",
              "max         1.000000\n",
              "Name: women_leave, dtype: float64"
            ]
          },
          "metadata": {
            "tags": []
          },
          "execution_count": 27
        }
      ]
    },
    {
      "cell_type": "code",
      "metadata": {
        "id": "nG2FNLmEkeQK",
        "colab_type": "code",
        "colab": {
          "base_uri": "https://localhost:8080/",
          "height": 34
        },
        "outputId": "78a8756b-71a3-4099-e2e3-ab3e70d9312e"
      },
      "source": [
        "db[\"women_leave\"].unique().tolist()"
      ],
      "execution_count": null,
      "outputs": [
        {
          "output_type": "execute_result",
          "data": {
            "text/plain": [
              "[nan, 0.0, 1.0]"
            ]
          },
          "metadata": {
            "tags": []
          },
          "execution_count": 28
        }
      ]
    },
    {
      "cell_type": "markdown",
      "metadata": {
        "id": "To_e4PtSkjyh",
        "colab_type": "text"
      },
      "source": [
        "Aqui, são 7.403 valores NA's, enquanto tempos 7596 valores distribuidos entre 0 e 1.\n",
        "\n",
        "Suspeito que esses valores representem:\n",
        "\n",
        "\n",
        "*   0: Mulheres que não sairam \n",
        "*   1: Mulheres que sairam;\n",
        "*   NA: Homens\n",
        "\n",
        "Para verificar, farei uma Cross Table:\n",
        "\n"
      ]
    },
    {
      "cell_type": "code",
      "metadata": {
        "id": "8il9vJc_lYRE",
        "colab_type": "code",
        "colab": {
          "base_uri": "https://localhost:8080/",
          "height": 34
        },
        "outputId": "071a7f50-9ae7-42fe-a6dd-eb7c06223e18"
      },
      "source": [
        "db[\"gender\"].unique().tolist() # Verificar os valores que existem na variavel \"genero\""
      ],
      "execution_count": null,
      "outputs": [
        {
          "output_type": "execute_result",
          "data": {
            "text/plain": [
              "['M', 'F']"
            ]
          },
          "metadata": {
            "tags": []
          },
          "execution_count": 29
        }
      ]
    },
    {
      "cell_type": "code",
      "metadata": {
        "id": "ukq8ZRsUk4-Q",
        "colab_type": "code",
        "colab": {
          "base_uri": "https://localhost:8080/",
          "height": 142
        },
        "outputId": "1a8fe52d-5f53-4fe1-ecae-d9866168afa2"
      },
      "source": [
        "tab = pd.crosstab(index = db[\"gender\"],\n",
        "                  columns = \"Numero\",\n",
        "                  normalize = True)\n",
        "tab"
      ],
      "execution_count": null,
      "outputs": [
        {
          "output_type": "execute_result",
          "data": {
            "text/html": [
              "<div>\n",
              "<style scoped>\n",
              "    .dataframe tbody tr th:only-of-type {\n",
              "        vertical-align: middle;\n",
              "    }\n",
              "\n",
              "    .dataframe tbody tr th {\n",
              "        vertical-align: top;\n",
              "    }\n",
              "\n",
              "    .dataframe thead th {\n",
              "        text-align: right;\n",
              "    }\n",
              "</style>\n",
              "<table border=\"1\" class=\"dataframe\">\n",
              "  <thead>\n",
              "    <tr style=\"text-align: right;\">\n",
              "      <th>col_0</th>\n",
              "      <th>Numero</th>\n",
              "    </tr>\n",
              "    <tr>\n",
              "      <th>gender</th>\n",
              "      <th></th>\n",
              "    </tr>\n",
              "  </thead>\n",
              "  <tbody>\n",
              "    <tr>\n",
              "      <th>F</th>\n",
              "      <td>0.506434</td>\n",
              "    </tr>\n",
              "    <tr>\n",
              "      <th>M</th>\n",
              "      <td>0.493566</td>\n",
              "    </tr>\n",
              "  </tbody>\n",
              "</table>\n",
              "</div>"
            ],
            "text/plain": [
              "col_0     Numero\n",
              "gender          \n",
              "F       0.506434\n",
              "M       0.493566"
            ]
          },
          "metadata": {
            "tags": []
          },
          "execution_count": 30
        }
      ]
    },
    {
      "cell_type": "code",
      "metadata": {
        "id": "7n9clid8lKxf",
        "colab_type": "code",
        "colab": {
          "base_uri": "https://localhost:8080/",
          "height": 204
        },
        "outputId": "e149d08d-5d0b-4a57-9d4f-bb6de3fcc8cd"
      },
      "source": [
        "tab2 = pd.crosstab(db.women_leave, db.gender, margins = True)\n",
        "tab2_prcnt = pd.crosstab(db.women_leave, db.gender, margins = True, normalize = True)\n",
        "print(tab2)\n",
        "print(\"_\" * 35)\n",
        "print(tab2_prcnt)"
      ],
      "execution_count": null,
      "outputs": [
        {
          "output_type": "stream",
          "text": [
            "gender          F   All\n",
            "women_leave            \n",
            "0.0          2220  2220\n",
            "1.0          5376  5376\n",
            "All          7596  7596\n",
            "___________________________________\n",
            "gender              F       All\n",
            "women_leave                    \n",
            "0.0          0.292259  0.292259\n",
            "1.0          0.707741  0.707741\n",
            "All          1.000000  1.000000\n"
          ],
          "name": "stdout"
        }
      ]
    },
    {
      "cell_type": "markdown",
      "metadata": {
        "id": "qtfyCvFmlap9",
        "colab_type": "text"
      },
      "source": [
        "Com base nas duas tabelas, onde o número de pessoas do genero \"feminino\" é o mesmo do total de valores válidos da variável \"women_leave\", é possível perceber que os NA's são mesmo os homens (já que não entram na categoria \"mulher\").\n",
        "\n",
        "Mas e agora? Se olharmos na tabela abaixo, podemos ver a distribuição de mulheres com os valores 1 e 0, na variável \"women_leave\". Para saber o que 0 e 1 representam (se é \"saiu\" ou \"não saiu\"), iremos tentar relacionar essa variável com a \"*left_company*\":\n"
      ]
    },
    {
      "cell_type": "code",
      "metadata": {
        "id": "feTAuhGqmTck",
        "colab_type": "code",
        "colab": {
          "base_uri": "https://localhost:8080/",
          "height": 142
        },
        "outputId": "83591b8d-7866-46ed-fdb3-4e0326f7e21b"
      },
      "source": [
        "pd.crosstab(db[\"women_leave\"], columns = \"Numero\", normalize = True)"
      ],
      "execution_count": null,
      "outputs": [
        {
          "output_type": "execute_result",
          "data": {
            "text/html": [
              "<div>\n",
              "<style scoped>\n",
              "    .dataframe tbody tr th:only-of-type {\n",
              "        vertical-align: middle;\n",
              "    }\n",
              "\n",
              "    .dataframe tbody tr th {\n",
              "        vertical-align: top;\n",
              "    }\n",
              "\n",
              "    .dataframe thead th {\n",
              "        text-align: right;\n",
              "    }\n",
              "</style>\n",
              "<table border=\"1\" class=\"dataframe\">\n",
              "  <thead>\n",
              "    <tr style=\"text-align: right;\">\n",
              "      <th>col_0</th>\n",
              "      <th>Numero</th>\n",
              "    </tr>\n",
              "    <tr>\n",
              "      <th>women_leave</th>\n",
              "      <th></th>\n",
              "    </tr>\n",
              "  </thead>\n",
              "  <tbody>\n",
              "    <tr>\n",
              "      <th>0.0</th>\n",
              "      <td>0.292259</td>\n",
              "    </tr>\n",
              "    <tr>\n",
              "      <th>1.0</th>\n",
              "      <td>0.707741</td>\n",
              "    </tr>\n",
              "  </tbody>\n",
              "</table>\n",
              "</div>"
            ],
            "text/plain": [
              "col_0          Numero\n",
              "women_leave          \n",
              "0.0          0.292259\n",
              "1.0          0.707741"
            ]
          },
          "metadata": {
            "tags": []
          },
          "execution_count": 32
        }
      ]
    },
    {
      "cell_type": "code",
      "metadata": {
        "id": "-j7AVbwLmwhc",
        "colab_type": "code",
        "colab": {
          "base_uri": "https://localhost:8080/",
          "height": 34
        },
        "outputId": "cbf77994-8a23-4b79-f5ad-4c00c441c993"
      },
      "source": [
        "db[\"left_company\"].unique().tolist() # Verificar os valores que assumem a variável \"left_company\""
      ],
      "execution_count": null,
      "outputs": [
        {
          "output_type": "execute_result",
          "data": {
            "text/plain": [
              "[0, 1]"
            ]
          },
          "metadata": {
            "tags": []
          },
          "execution_count": 33
        }
      ]
    },
    {
      "cell_type": "code",
      "metadata": {
        "id": "ZjcgpYTwm9ai",
        "colab_type": "code",
        "colab": {
          "base_uri": "https://localhost:8080/",
          "height": 204
        },
        "outputId": "e11b38ad-16cf-42a7-da0e-8068949fefaa"
      },
      "source": [
        "women_leave_left_comp = pd.crosstab(db.women_leave, db.left_company, margins = True)\n",
        "women_leave_left_comp_prcnt = pd.crosstab(db.women_leave, db.left_company, margins = True, normalize = True)\n",
        "print(women_leave_left_comp)\n",
        "print(\"_\" * 45)\n",
        "print(women_leave_left_comp_prcnt)"
      ],
      "execution_count": null,
      "outputs": [
        {
          "output_type": "stream",
          "text": [
            "left_company     0     1   All\n",
            "women_leave                   \n",
            "0.0           1382   838  2220\n",
            "1.0           4374  1002  5376\n",
            "All           5756  1840  7596\n",
            "_____________________________________________\n",
            "left_company         0         1       All\n",
            "women_leave                               \n",
            "0.0           0.181938  0.110321  0.292259\n",
            "1.0           0.575829  0.131912  0.707741\n",
            "All           0.757767  0.242233  1.000000\n"
          ],
          "name": "stdout"
        }
      ]
    },
    {
      "cell_type": "markdown",
      "metadata": {
        "id": "DhEuPc1DnD3e",
        "colab_type": "text"
      },
      "source": [
        "Não há como identificar o que o 1 e 0 representam. Além disso, os dados apresentam uma discrepância quando comparados a variável \"left_company\". Por causa disso, não consegui chegar a uma conclusão sobre o significado dos valores da variável \"*women_leave*\". Então descatarei ela."
      ]
    },
    {
      "cell_type": "markdown",
      "metadata": {
        "id": "zQ9v-ru0of38",
        "colab_type": "text"
      },
      "source": [
        "##### 7) Men_Leave\n",
        "\n",
        "*Men who Left the Company*\n",
        "\n"
      ]
    },
    {
      "cell_type": "code",
      "metadata": {
        "id": "CaQ2suKEod4E",
        "colab_type": "code",
        "colab": {
          "base_uri": "https://localhost:8080/",
          "height": 34
        },
        "outputId": "ae057eec-dfa6-4beb-8484-07f3e382cffc"
      },
      "source": [
        "db[\"men_leave\"].isnull().sum()"
      ],
      "execution_count": null,
      "outputs": [
        {
          "output_type": "execute_result",
          "data": {
            "text/plain": [
              "10134"
            ]
          },
          "metadata": {
            "tags": []
          },
          "execution_count": 35
        }
      ]
    },
    {
      "cell_type": "code",
      "metadata": {
        "id": "lezoMsFMozLM",
        "colab_type": "code",
        "colab": {
          "base_uri": "https://localhost:8080/",
          "height": 170
        },
        "outputId": "77ba59eb-33ef-4516-a8d2-a9531804f925"
      },
      "source": [
        "db[\"men_leave\"].describe()"
      ],
      "execution_count": null,
      "outputs": [
        {
          "output_type": "execute_result",
          "data": {
            "text/plain": [
              "count    4865.000000\n",
              "mean        0.908530\n",
              "std         0.288306\n",
              "min         0.000000\n",
              "25%         1.000000\n",
              "50%         1.000000\n",
              "75%         1.000000\n",
              "max         1.000000\n",
              "Name: men_leave, dtype: float64"
            ]
          },
          "metadata": {
            "tags": []
          },
          "execution_count": 36
        }
      ]
    },
    {
      "cell_type": "code",
      "metadata": {
        "id": "-GdWtJ1oo1AH",
        "colab_type": "code",
        "colab": {
          "base_uri": "https://localhost:8080/",
          "height": 34
        },
        "outputId": "a8838f82-3881-40ca-dec6-e2c9fd45297e"
      },
      "source": [
        "db[\"men_leave\"].unique().tolist()"
      ],
      "execution_count": null,
      "outputs": [
        {
          "output_type": "execute_result",
          "data": {
            "text/plain": [
              "[1.0, nan, 0.0]"
            ]
          },
          "metadata": {
            "tags": []
          },
          "execution_count": 37
        }
      ]
    },
    {
      "cell_type": "markdown",
      "metadata": {
        "id": "yhi9Wlk1o5D4",
        "colab_type": "text"
      },
      "source": [
        "Seguindo a lógica da variável anterior (women_leave), acredito que:\n",
        "\n",
        "\n",
        "\n",
        "*   0: Homens que não sairam\n",
        "*   1: Homens que sairam\n",
        "*   NA: Mulheres\n",
        "\n",
        "Verificarei com Cross Table:\n",
        "\n"
      ]
    },
    {
      "cell_type": "code",
      "metadata": {
        "id": "FEBsAMncpKYk",
        "colab_type": "code",
        "colab": {
          "base_uri": "https://localhost:8080/",
          "height": 142
        },
        "outputId": "e5e3103f-623d-4315-dd07-941807c1a74d"
      },
      "source": [
        "pd.crosstab(index = db[\"gender\"],\n",
        "            columns = \"Número\", normalize = True) # Normalize me traz a frequencia relativa"
      ],
      "execution_count": null,
      "outputs": [
        {
          "output_type": "execute_result",
          "data": {
            "text/html": [
              "<div>\n",
              "<style scoped>\n",
              "    .dataframe tbody tr th:only-of-type {\n",
              "        vertical-align: middle;\n",
              "    }\n",
              "\n",
              "    .dataframe tbody tr th {\n",
              "        vertical-align: top;\n",
              "    }\n",
              "\n",
              "    .dataframe thead th {\n",
              "        text-align: right;\n",
              "    }\n",
              "</style>\n",
              "<table border=\"1\" class=\"dataframe\">\n",
              "  <thead>\n",
              "    <tr style=\"text-align: right;\">\n",
              "      <th>col_0</th>\n",
              "      <th>Número</th>\n",
              "    </tr>\n",
              "    <tr>\n",
              "      <th>gender</th>\n",
              "      <th></th>\n",
              "    </tr>\n",
              "  </thead>\n",
              "  <tbody>\n",
              "    <tr>\n",
              "      <th>F</th>\n",
              "      <td>0.506434</td>\n",
              "    </tr>\n",
              "    <tr>\n",
              "      <th>M</th>\n",
              "      <td>0.493566</td>\n",
              "    </tr>\n",
              "  </tbody>\n",
              "</table>\n",
              "</div>"
            ],
            "text/plain": [
              "col_0     Número\n",
              "gender          \n",
              "F       0.506434\n",
              "M       0.493566"
            ]
          },
          "metadata": {
            "tags": []
          },
          "execution_count": 38
        }
      ]
    },
    {
      "cell_type": "code",
      "metadata": {
        "id": "1LPZyvznpXes",
        "colab_type": "code",
        "colab": {
          "base_uri": "https://localhost:8080/",
          "height": 204
        },
        "outputId": "ed2ff085-2f46-4d1f-cfa2-79aaabfab0c6"
      },
      "source": [
        "# Verificando se os NA's são as mulheres:\n",
        "leave_gndr = pd.crosstab(db.men_leave, db.gender, margins = True)\n",
        "leave_gndr_prnct = pd.crosstab(db.men_leave, db.gender, margins = True, normalize = True)\n",
        "print(leave_gndr)\n",
        "print(\"_\" * 30)\n",
        "print(leave_gndr_prnct)"
      ],
      "execution_count": null,
      "outputs": [
        {
          "output_type": "stream",
          "text": [
            "gender        M   All\n",
            "men_leave            \n",
            "0.0         445   445\n",
            "1.0        4420  4420\n",
            "All        4865  4865\n",
            "______________________________\n",
            "gender           M      All\n",
            "men_leave                  \n",
            "0.0        0.09147  0.09147\n",
            "1.0        0.90853  0.90853\n",
            "All        1.00000  1.00000\n"
          ],
          "name": "stdout"
        }
      ]
    },
    {
      "cell_type": "markdown",
      "metadata": {
        "id": "gGctugDcptA_",
        "colab_type": "text"
      },
      "source": [
        "Essa variável é ainda mais problemática: o número de homens em \"men_left\" (juntando as categorias 0 e 1) não chega perto do número de homens mostrado pela variável \"gender\". Logo, há pessoas do gênero masculino dentro dos 10 mil NA's da \"men_lef\". \n",
        "\n",
        "Mas e agora? Se olharmos na tabela abaixo, podemos ver a distribuição de homens com os valores 1 e 0, na variável \"men_leave\". Para saber o que 0 e 1 representam (se é \"saiu\" ou \"não saiu\"), iremos tentar relacionar essa variável com a \"left_company\":\n",
        "\n",
        "\n"
      ]
    },
    {
      "cell_type": "code",
      "metadata": {
        "id": "N8nEBAb6ryiu",
        "colab_type": "code",
        "colab": {
          "base_uri": "https://localhost:8080/",
          "height": 204
        },
        "outputId": "1bf9812c-59c2-4ca2-f07a-4209e80063e7"
      },
      "source": [
        "men_leave_left_comp = pd.crosstab(db.men_leave, db.left_company, margins = True)\n",
        "men_leave_left_comp_prcnt = pd.crosstab(db.men_leave, db.left_company, margins = True, normalize = True)\n",
        "print(men_leave_left_comp)\n",
        "print(\"_\" * 45)\n",
        "print(men_leave_left_comp_prcnt)"
      ],
      "execution_count": null,
      "outputs": [
        {
          "output_type": "stream",
          "text": [
            "left_company     0     1   All\n",
            "men_leave                     \n",
            "0.0            445     0   445\n",
            "1.0           2694  1726  4420\n",
            "All           3139  1726  4865\n",
            "_____________________________________________\n",
            "left_company         0         1      All\n",
            "men_leave                                \n",
            "0.0           0.091470  0.000000  0.09147\n",
            "1.0           0.553751  0.354779  0.90853\n",
            "All           0.645221  0.354779  1.00000\n"
          ],
          "name": "stdout"
        }
      ]
    },
    {
      "cell_type": "markdown",
      "metadata": {
        "id": "ibHQrWZkr_AM",
        "colab_type": "text"
      },
      "source": [
        "Não há como identificar o que o 1 e o 0 representam. Apesar de o 1 de \"*left_company*\" ser do mesmo valor do 0 de \"*men_leave*\" (0), a discrepância dos outros valores não nos permitem afirmar nada.\n",
        "\n",
        "Com base no que foi exposto, optei por descartar essa variável do banco."
      ]
    },
    {
      "cell_type": "markdown",
      "metadata": {
        "id": "VzzHQzjSGYbk",
        "colab_type": "text"
      },
      "source": [
        "--------------"
      ]
    },
    {
      "cell_type": "markdown",
      "metadata": {
        "id": "f0Oi47d4sWkv",
        "colab_type": "text"
      },
      "source": [
        "## Relações e Análises\n"
      ]
    },
    {
      "cell_type": "markdown",
      "metadata": {
        "id": "xOCyCAOAQD_s",
        "colab_type": "text"
      },
      "source": [
        "Aqui, farei brevemente uma análise descritiva das variáveis que acredito que possam ter alguma relação importante.\n"
      ]
    },
    {
      "cell_type": "markdown",
      "metadata": {
        "id": "nkFUyG1gQKVC",
        "colab_type": "text"
      },
      "source": [
        "### 1) Gênero e Salário\n",
        "\n"
      ]
    },
    {
      "cell_type": "markdown",
      "metadata": {
        "id": "LFrL-z9yQOzE",
        "colab_type": "text"
      },
      "source": [
        "> Primeira relação que testaremos é entre Gênero e Salário;\n",
        "Espero que, caso retrate a realidade, haja uma discrepância entre o salário dos Homens e das Mulheres. Apesar de o banco ser fictício, vale a pena conferir."
      ]
    },
    {
      "cell_type": "code",
      "metadata": {
        "id": "gyS7JruYQY16",
        "colab_type": "code",
        "colab": {
          "base_uri": "https://localhost:8080/",
          "height": 238
        },
        "outputId": "761b5692-f124-4b35-ba7a-70391c0b7bbd"
      },
      "source": [
        "# Tabela Cruzada:\n",
        "\n",
        "gen_sal = pd.crosstab(db.salary, db.gender, margins = True)\n",
        "gen_sal_prcnt = pd.crosstab(db.salary, db.gender, margins = True, normalize = True)\n",
        "print(gen_sal)\n",
        "print(\"_\" * 40)\n",
        "print(gen_sal_prcnt)"
      ],
      "execution_count": null,
      "outputs": [
        {
          "output_type": "stream",
          "text": [
            "gender     F     M    All\n",
            "salary                   \n",
            "high     613   624   1237\n",
            "low     3684  3632   7316\n",
            "medium  3299  3147   6446\n",
            "All     7596  7403  14999\n",
            "________________________________________\n",
            "gender         F         M       All\n",
            "salary                              \n",
            "high    0.040869  0.041603  0.082472\n",
            "low     0.245616  0.242149  0.487766\n",
            "medium  0.219948  0.209814  0.429762\n",
            "All     0.506434  0.493566  1.000000\n"
          ],
          "name": "stdout"
        }
      ]
    },
    {
      "cell_type": "code",
      "metadata": {
        "id": "Xtr6Gi9huD9G",
        "colab_type": "code",
        "colab": {
          "base_uri": "https://localhost:8080/",
          "height": 34
        },
        "outputId": "2f9d2402-178e-4f45-a935-a380145e85c6"
      },
      "source": [
        "dict(db[\"salary\"].value_counts())"
      ],
      "execution_count": null,
      "outputs": [
        {
          "output_type": "execute_result",
          "data": {
            "text/plain": [
              "{'high': 1237, 'low': 7316, 'medium': 6446}"
            ]
          },
          "metadata": {
            "tags": []
          },
          "execution_count": 42
        }
      ]
    },
    {
      "cell_type": "code",
      "metadata": {
        "id": "Oja86qi_uyiJ",
        "colab_type": "code",
        "colab": {}
      },
      "source": [
        "lis = [1237, 7316, 6446]"
      ],
      "execution_count": null,
      "outputs": []
    },
    {
      "cell_type": "code",
      "metadata": {
        "id": "8SrplkgWScrh",
        "colab_type": "code",
        "colab": {
          "base_uri": "https://localhost:8080/",
          "height": 299
        },
        "outputId": "d0062b49-a5de-44c3-c52d-b6aeeeba7fb4"
      },
      "source": [
        "# Plotando um Gráfico de Barras Estacados:\n",
        "pd.crosstab(db['salary'], db['gender']).plot(kind='bar', stacked=True)\n",
        "plt.ylabel(\"No de Pessoas\") # Mudando a legenda do Eixo Y\n",
        "plt.xlabel(\"Salario\") # Mudando a legenda do Eixo X\n",
        "positions = (0, 1, 2) # Definindo um vetor de posiçãp\n",
        "labels = (\"Alto\", \"Baixo\", \"Médio\") # Definindo novos labels para o Eixo X\n",
        "plt.xticks(positions, labels) # Mudando os valores do Eixo X utilizando \"xticks\", position + labels\n",
        "\n",
        "############### Valores através de plt.text ##############\n",
        "\n",
        "inic = -0.12\n",
        "for i in lis:\n",
        "  plt.text(inic, i, i)\n",
        "  inic += 1\n",
        "\n",
        "#######################################3\n",
        "plt.grid()\n",
        "plt.show()\n"
      ],
      "execution_count": null,
      "outputs": [
        {
          "output_type": "display_data",
          "data": {
            "image/png": "[encoded data removed]",
            "text/plain": [
              "<Figure size 432x288 with 1 Axes>"
            ]
          },
          "metadata": {
            "tags": [],
            "needs_background": "light"
          }
        }
      ]
    },
    {
      "cell_type": "markdown",
      "metadata": {
        "id": "8sYwG2ITT99U",
        "colab_type": "text"
      },
      "source": [
        "Olhando os resultados em conjunto, é possível confirmar que **NÃO** há uma diferença salarial entre homens e mulheres.\n",
        "\n"
      ]
    },
    {
      "cell_type": "markdown",
      "metadata": {
        "id": "BPLEAeQXUfMP",
        "colab_type": "text"
      },
      "source": [
        "### 2) Gênero e Sair da Empresa"
      ]
    },
    {
      "cell_type": "markdown",
      "metadata": {
        "id": "M0uxeoUpUmZW",
        "colab_type": "text"
      },
      "source": [
        "> Segunda relação que testarei é entre Gênero e Sair da Empresa;\n",
        "Aqui, testarei se há uma diferença entre o gênero do funcionário e sair ou não da empresa. Caso haja uma diferença, isso pode nos ajudar a pensar se há algo específico que influencie um gênero a sair da empresa mais do que o outro (um motivo que não seja salarial).\n",
        "\n",
        ">> No entanto, como não houve diferença salarial entre os gêneros, o que aponta em direção de um banco de dados sem discrepância entre homens e mulheres, espera-se que essa diferença também esteja ausente na relação \"gênero x sair da empresa\""
      ]
    },
    {
      "cell_type": "code",
      "metadata": {
        "id": "c1fY9j_gT67q",
        "colab_type": "code",
        "colab": {
          "base_uri": "https://localhost:8080/",
          "height": 204
        },
        "outputId": "e1be622a-dbe7-42fe-83c5-deb192fbc81d"
      },
      "source": [
        "# Tabela:\n",
        "gen_emp = pd.crosstab(db.left_company, db.gender, margins = True)\n",
        "gen_emp_prcnt = pd.crosstab(db.left_company, db.gender, margins = True, normalize = True)\n",
        "print(gen_emp)\n",
        "print(\"-\" * 50)\n",
        "print(gen_emp_prcnt)"
      ],
      "execution_count": null,
      "outputs": [
        {
          "output_type": "stream",
          "text": [
            "gender           F     M    All\n",
            "left_company                   \n",
            "0             5756  5672  11428\n",
            "1             1840  1731   3571\n",
            "All           7596  7403  14999\n",
            "--------------------------------------------------\n",
            "gender               F         M       All\n",
            "left_company                              \n",
            "0             0.383759  0.378159  0.761917\n",
            "1             0.122675  0.115408  0.238083\n",
            "All           0.506434  0.493566  1.000000\n"
          ],
          "name": "stdout"
        }
      ]
    },
    {
      "cell_type": "code",
      "metadata": {
        "id": "QuQ3409QVQ9d",
        "colab_type": "code",
        "colab": {
          "base_uri": "https://localhost:8080/",
          "height": 289
        },
        "outputId": "427d7e9b-7167-4d59-911d-1b7ec49187ab"
      },
      "source": [
        "# Gráfico:\n",
        "pd.crosstab(db[\"left_company\"], db[\"gender\"]).plot(kind = \"bar\", stacked = True)\n",
        "plt.xlabel(\"Saiu da Empresa\") # Label do Eixo X\n",
        "plt.ylabel(\"Número de Pessoas\") # Label do Eixo Y\n",
        "position = (0, 1) # Posições para o Eixo X\n",
        "label = (\"Não\", \"Sim\") # Novos valores para o Eixo X\n",
        "plt.xticks(position, label) # Mudando os labels dos valores do Eixo X\n",
        "plt.grid()\n",
        "plt.show()\n"
      ],
      "execution_count": null,
      "outputs": [
        {
          "output_type": "display_data",
          "data": {
            "image/png": "[encoded data removed]",
            "text/plain": [
              "<Figure size 432x288 with 1 Axes>"
            ]
          },
          "metadata": {
            "tags": [],
            "needs_background": "light"
          }
        }
      ]
    },
    {
      "cell_type": "markdown",
      "metadata": {
        "id": "PbpVfib2V38x",
        "colab_type": "text"
      },
      "source": [
        "Olhando ambos os resultados, assim como na relação anterior, é possível confirmar que **NÃO** há uma relação entre Gênero e Sair da Empresa, uma vez que distribuição se encontra praticamente igual entre os Gêneros Masculino e Feminino"
      ]
    },
    {
      "cell_type": "markdown",
      "metadata": {
        "id": "gJ4ihieXWOLL",
        "colab_type": "text"
      },
      "source": [
        "### 3) Gênero, Salário e Nível na Empresa (cargo)"
      ]
    },
    {
      "cell_type": "markdown",
      "metadata": {
        "id": "Yzsnbu2CWR3a",
        "colab_type": "text"
      },
      "source": [
        "> Para testar essa relação, dividiremos a análise em três etapas:\n",
        "\n",
        "\n",
        "1.   Filtrar o banco apenas pelos salários ALTOS;\n",
        "2.   Filtrar o banco apenas pelos salários MÉDIOS;\n",
        "3.   Filtrar o banco apenas pelos salários BAIXOS;\n",
        "\n",
        "> Em cada etapa, realizaremos uma breve análise descritiva;\n",
        "\n"
      ]
    },
    {
      "cell_type": "code",
      "metadata": {
        "id": "OZXn4JP2WStU",
        "colab_type": "code",
        "colab": {
          "base_uri": "https://localhost:8080/",
          "height": 34
        },
        "outputId": "995a471d-a7e7-4f84-c6e0-c615ed9887c9"
      },
      "source": [
        "# Confirmando as categorias da variável \"salary\":\n",
        "db[\"salary\"].unique().tolist()\n"
      ],
      "execution_count": null,
      "outputs": [
        {
          "output_type": "execute_result",
          "data": {
            "text/plain": [
              "['low', 'medium', 'high']"
            ]
          },
          "metadata": {
            "tags": []
          },
          "execution_count": 47
        }
      ]
    },
    {
      "cell_type": "code",
      "metadata": {
        "id": "PSQqxnYPbcYG",
        "colab_type": "code",
        "colab": {
          "base_uri": "https://localhost:8080/",
          "height": 51
        },
        "outputId": "4cb9424c-bab5-4d4e-dc00-cf5ba5d82590"
      },
      "source": [
        "# Verificando as categorias da variável \"role\" (cargo/função):\n",
        "print(db[\"role\"].unique().tolist())\n",
        "\n",
        "## Podemos perceber que, caso deixemos assim, haverá um problema na ordem das categorias.\n",
        "### Para tentar resolver esse problema, recodificaremos essa variável apenas para que a tabela e o gráfico fiquem mais fáceis de interpretar:\n",
        "\n",
        "# Criando um dicionári para receber os novos nomes:\n",
        "recode = {\"Senior Director\": \"6 - Senior Director\" ,\n",
        "        \"Director\": \"5 - Director\" ,\n",
        "        \"Manager\": \"3 - Manager\",\n",
        "        \"Level 2-4\": \"2 - Level 2-4\",\n",
        "        \"Level 1\": \"1 - Level 1\",\n",
        "        \"Senior Manager\": \"4 - Senior Manager\",\n",
        "        \"VP\": \"7 - VP\"}\n",
        "db[\"role_novo\"] = db[\"role\"].map(recode)\n",
        "\n",
        "print(sorted(db[\"role_novo\"].unique())) # Confirmando a alteração"
      ],
      "execution_count": null,
      "outputs": [
        {
          "output_type": "stream",
          "text": [
            "['VP', 'Senior Director', 'Director', 'Senior Manager', 'Manager', 'Level 2-4', 'Level 1']\n",
            "['1 - Level 1', '2 - Level 2-4', '3 - Manager', '4 - Senior Manager', '5 - Director', '6 - Senior Director', '7 - VP']\n"
          ],
          "name": "stdout"
        }
      ]
    },
    {
      "cell_type": "code",
      "metadata": {
        "id": "fjBoBc7VW7X5",
        "colab_type": "code",
        "colab": {
          "base_uri": "https://localhost:8080/",
          "height": 34
        },
        "outputId": "3e674ce7-a9a3-4f77-f9e6-e77b0274b71a"
      },
      "source": [
        "# 1. Filtrando apenas para aqueles com salários ALTOS:\n",
        "db_sal_alto = db[(db[\"salary\"] == \"high\")]\n",
        "\n",
        "# Confirmando se foram selecionados apenas aqueles com salários altos:\n",
        "print(db_sal_alto[\"salary\"].unique().tolist())"
      ],
      "execution_count": null,
      "outputs": [
        {
          "output_type": "stream",
          "text": [
            "['high']\n"
          ],
          "name": "stdout"
        }
      ]
    },
    {
      "cell_type": "code",
      "metadata": {
        "id": "R2soaVLwXIrP",
        "colab_type": "code",
        "colab": {
          "base_uri": "https://localhost:8080/",
          "height": 374
        },
        "outputId": "d2b7d7be-8676-4312-d8ea-4e0bfea114ba"
      },
      "source": [
        "# Tabela:\n",
        "tab_alto = pd.crosstab(db_sal_alto.role_novo, db_sal_alto.gender, margins = True)\n",
        "tab_alto_prcnt = pd.crosstab(db_sal_alto.role_novo, db_sal_alto.gender, margins = True, normalize=True) # Normalize = True traz a frequencia relativa\n",
        "print(tab_alto)\n",
        "print(\"-\" * 50)\n",
        "print(tab_alto_prcnt)\n"
      ],
      "execution_count": null,
      "outputs": [
        {
          "output_type": "stream",
          "text": [
            "gender                 F    M   All\n",
            "role_novo                          \n",
            "1 - Level 1          137  125   262\n",
            "2 - Level 2-4        287  272   559\n",
            "3 - Manager           93  124   217\n",
            "4 - Senior Manager    61   56   117\n",
            "5 - Director          21   27    48\n",
            "6 - Senior Director   10   11    21\n",
            "7 - VP                 4    9    13\n",
            "All                  613  624  1237\n",
            "--------------------------------------------------\n",
            "gender                      F         M       All\n",
            "role_novo                                        \n",
            "1 - Level 1          0.110752  0.101051  0.211803\n",
            "2 - Level 2-4        0.232013  0.219887  0.451900\n",
            "3 - Manager          0.075182  0.100243  0.175424\n",
            "4 - Senior Manager   0.049313  0.045271  0.094584\n",
            "5 - Director         0.016977  0.021827  0.038804\n",
            "6 - Senior Director  0.008084  0.008892  0.016977\n",
            "7 - VP               0.003234  0.007276  0.010509\n",
            "All                  0.495554  0.504446  1.000000\n"
          ],
          "name": "stdout"
        }
      ]
    },
    {
      "cell_type": "code",
      "metadata": {
        "id": "MY0MBS1PjijB",
        "colab_type": "code",
        "colab": {
          "base_uri": "https://localhost:8080/",
          "height": 328
        },
        "outputId": "2b20ad60-33e0-466a-d1fc-c5fa990d21ba"
      },
      "source": [
        "tab_alto_prcnt = pd.crosstab(db_sal_alto.role_novo, db_sal_alto.gender, margins = True, normalize=True)\n",
        "tab_alto_prcnt"
      ],
      "execution_count": null,
      "outputs": [
        {
          "output_type": "execute_result",
          "data": {
            "text/html": [
              "<div>\n",
              "<style scoped>\n",
              "    .dataframe tbody tr th:only-of-type {\n",
              "        vertical-align: middle;\n",
              "    }\n",
              "\n",
              "    .dataframe tbody tr th {\n",
              "        vertical-align: top;\n",
              "    }\n",
              "\n",
              "    .dataframe thead th {\n",
              "        text-align: right;\n",
              "    }\n",
              "</style>\n",
              "<table border=\"1\" class=\"dataframe\">\n",
              "  <thead>\n",
              "    <tr style=\"text-align: right;\">\n",
              "      <th>gender</th>\n",
              "      <th>F</th>\n",
              "      <th>M</th>\n",
              "      <th>All</th>\n",
              "    </tr>\n",
              "    <tr>\n",
              "      <th>role_novo</th>\n",
              "      <th></th>\n",
              "      <th></th>\n",
              "      <th></th>\n",
              "    </tr>\n",
              "  </thead>\n",
              "  <tbody>\n",
              "    <tr>\n",
              "      <th>1 - Level 1</th>\n",
              "      <td>0.110752</td>\n",
              "      <td>0.101051</td>\n",
              "      <td>0.211803</td>\n",
              "    </tr>\n",
              "    <tr>\n",
              "      <th>2 - Level 2-4</th>\n",
              "      <td>0.232013</td>\n",
              "      <td>0.219887</td>\n",
              "      <td>0.451900</td>\n",
              "    </tr>\n",
              "    <tr>\n",
              "      <th>3 - Manager</th>\n",
              "      <td>0.075182</td>\n",
              "      <td>0.100243</td>\n",
              "      <td>0.175424</td>\n",
              "    </tr>\n",
              "    <tr>\n",
              "      <th>4 - Senior Manager</th>\n",
              "      <td>0.049313</td>\n",
              "      <td>0.045271</td>\n",
              "      <td>0.094584</td>\n",
              "    </tr>\n",
              "    <tr>\n",
              "      <th>5 - Director</th>\n",
              "      <td>0.016977</td>\n",
              "      <td>0.021827</td>\n",
              "      <td>0.038804</td>\n",
              "    </tr>\n",
              "    <tr>\n",
              "      <th>6 - Senior Director</th>\n",
              "      <td>0.008084</td>\n",
              "      <td>0.008892</td>\n",
              "      <td>0.016977</td>\n",
              "    </tr>\n",
              "    <tr>\n",
              "      <th>7 - VP</th>\n",
              "      <td>0.003234</td>\n",
              "      <td>0.007276</td>\n",
              "      <td>0.010509</td>\n",
              "    </tr>\n",
              "    <tr>\n",
              "      <th>All</th>\n",
              "      <td>0.495554</td>\n",
              "      <td>0.504446</td>\n",
              "      <td>1.000000</td>\n",
              "    </tr>\n",
              "  </tbody>\n",
              "</table>\n",
              "</div>"
            ],
            "text/plain": [
              "gender                      F         M       All\n",
              "role_novo                                        \n",
              "1 - Level 1          0.110752  0.101051  0.211803\n",
              "2 - Level 2-4        0.232013  0.219887  0.451900\n",
              "3 - Manager          0.075182  0.100243  0.175424\n",
              "4 - Senior Manager   0.049313  0.045271  0.094584\n",
              "5 - Director         0.016977  0.021827  0.038804\n",
              "6 - Senior Director  0.008084  0.008892  0.016977\n",
              "7 - VP               0.003234  0.007276  0.010509\n",
              "All                  0.495554  0.504446  1.000000"
            ]
          },
          "metadata": {
            "tags": []
          },
          "execution_count": 51
        }
      ]
    },
    {
      "cell_type": "code",
      "metadata": {
        "id": "8YvrU9GkZ71N",
        "colab_type": "code",
        "colab": {
          "base_uri": "https://localhost:8080/",
          "height": 348
        },
        "outputId": "5574c348-a926-48a2-a420-86020e80abf1"
      },
      "source": [
        "pd.crosstab(db_sal_alto[\"role_novo\"], db_sal_alto[\"gender\"]).plot(kind = \"bar\", stacked = True)\n",
        "plt.xlabel(\"Cargo na Empresa\")\n",
        "plt.ylabel(\"Número de Pessoas\")\n",
        "label = list(range(0, 7))\n",
        "nomes = (\"Level 1\", \"Level 2-4\", \"Manager\", \n",
        "         \"Senior Manager\", \"Director\", \"Senior Director\",\n",
        "         \"VP\")\n",
        "plt.xticks(label, nomes)\n",
        "plt.grid()\n",
        "plt.show()\n"
      ],
      "execution_count": null,
      "outputs": [
        {
          "output_type": "display_data",
          "data": {
            "image/png": "[encoded data removed]",
            "text/plain": [
              "<Figure size 432x288 with 1 Axes>"
            ]
          },
          "metadata": {
            "tags": [],
            "needs_background": "light"
          }
        }
      ]
    },
    {
      "cell_type": "markdown",
      "metadata": {
        "id": "t1cUE4c7a9be",
        "colab_type": "text"
      },
      "source": [
        "Com exceção da posição de Vice-Presidente, não há uma discrepância entre aqueles que recebem salários altos, seu gênero e seu caro na empresa. VP, sendo a unica exceção, possui o número de homens como sendo o dobro do número de mulheres."
      ]
    },
    {
      "cell_type": "code",
      "metadata": {
        "id": "XZhlEdjjbMwz",
        "colab_type": "code",
        "colab": {
          "base_uri": "https://localhost:8080/",
          "height": 34
        },
        "outputId": "98b50345-5ca0-4187-d6a6-2e109ae62c6f"
      },
      "source": [
        "# 2. Filtrando apenas aqueles com salários médios:\n",
        "db_sal_medio = db[(db[\"salary\"] == \"medium\")]\n",
        "\n",
        "# Conferindo se foram filtrados apenas aqueles com salários médios:\n",
        "db_sal_medio[\"salary\"].unique().tolist()"
      ],
      "execution_count": null,
      "outputs": [
        {
          "output_type": "execute_result",
          "data": {
            "text/plain": [
              "['medium']"
            ]
          },
          "metadata": {
            "tags": []
          },
          "execution_count": 53
        }
      ]
    },
    {
      "cell_type": "code",
      "metadata": {
        "id": "kaLiwPBvb9da",
        "colab_type": "code",
        "colab": {
          "base_uri": "https://localhost:8080/",
          "height": 374
        },
        "outputId": "3894ca3b-cd8f-4e7e-e575-c5158df0eb18"
      },
      "source": [
        "# Tabela:\n",
        "tab_sal_medio = pd.crosstab(db_sal_medio[\"role_novo\"], db_sal_medio[\"gender\"], margins = True)\n",
        "tab_sal_medio_prcnt = pd.crosstab(db_sal_medio[\"role_novo\"], db_sal_medio[\"gender\"], margins = True, normalize= True) # normalize = True traz o valor relativo\n",
        "print(tab_sal_medio)\n",
        "print(\"-\" * 50)\n",
        "print(tab_sal_medio_prcnt)"
      ],
      "execution_count": null,
      "outputs": [
        {
          "output_type": "stream",
          "text": [
            "gender                  F     M   All\n",
            "role_novo                            \n",
            "1 - Level 1           712   665  1377\n",
            "2 - Level 2-4        1541  1445  2986\n",
            "3 - Manager           514   538  1052\n",
            "4 - Senior Manager    288   263   551\n",
            "5 - Director          146   153   299\n",
            "6 - Senior Director    73    63   136\n",
            "7 - VP                 25    20    45\n",
            "All                  3299  3147  6446\n",
            "--------------------------------------------------\n",
            "gender                      F         M       All\n",
            "role_novo                                        \n",
            "1 - Level 1          0.110456  0.103165  0.213621\n",
            "2 - Level 2-4        0.239063  0.224170  0.463233\n",
            "3 - Manager          0.079739  0.083463  0.163202\n",
            "4 - Senior Manager   0.044679  0.040800  0.085479\n",
            "5 - Director         0.022650  0.023736  0.046385\n",
            "6 - Senior Director  0.011325  0.009774  0.021098\n",
            "7 - VP               0.003878  0.003103  0.006981\n",
            "All                  0.511790  0.488210  1.000000\n"
          ],
          "name": "stdout"
        }
      ]
    },
    {
      "cell_type": "code",
      "metadata": {
        "id": "gx0_0DTXqisO",
        "colab_type": "code",
        "colab": {
          "base_uri": "https://localhost:8080/",
          "height": 136
        },
        "outputId": "a41208da-c76a-4801-d442-4838e27db327"
      },
      "source": [
        "# Criando um dicionário com as contagens de cada categoria, \n",
        "# assim podemos extrair apenas os valores das contagens ( para ajudar na plotagem dos valores)\n",
        "dict(db_sal_medio[\"role_novo\"].value_counts()) "
      ],
      "execution_count": null,
      "outputs": [
        {
          "output_type": "execute_result",
          "data": {
            "text/plain": [
              "{'1 - Level 1': 1377,\n",
              " '2 - Level 2-4': 2986,\n",
              " '3 - Manager': 1052,\n",
              " '4 - Senior Manager': 551,\n",
              " '5 - Director': 299,\n",
              " '6 - Senior Director': 136,\n",
              " '7 - VP': 45}"
            ]
          },
          "metadata": {
            "tags": []
          },
          "execution_count": 55
        }
      ]
    },
    {
      "cell_type": "code",
      "metadata": {
        "id": "qUv-DOm3nODD",
        "colab_type": "code",
        "colab": {
          "base_uri": "https://localhost:8080/",
          "height": 34
        },
        "outputId": "f45fcca1-59be-46f5-9a14-4242bb2fdc3a"
      },
      "source": [
        "# Criando a lista com os valores:\n",
        "lst = [1377, 2986, 1052, 551, 299, 136, 45]\n",
        "lst"
      ],
      "execution_count": null,
      "outputs": [
        {
          "output_type": "execute_result",
          "data": {
            "text/plain": [
              "[1377, 2986, 1052, 551, 299, 136, 45]"
            ]
          },
          "metadata": {
            "tags": []
          },
          "execution_count": 56
        }
      ]
    },
    {
      "cell_type": "code",
      "metadata": {
        "id": "6WULonDzcOb_",
        "colab_type": "code",
        "colab": {
          "base_uri": "https://localhost:8080/",
          "height": 348
        },
        "outputId": "6bc0959e-e694-439d-f1e1-00c033d42c6a"
      },
      "source": [
        "pd.crosstab(db_sal_medio.role_novo, db_sal_medio.gender).plot(kind = \"bar\", stacked = True)\n",
        "plt.xlabel(\"Cargo na Empresa\")\n",
        "plt.ylabel(\"Número de Pessoas\")\n",
        "label = list(range(0, 7))\n",
        "nomes = (\"Level 1\", \"Level 2-4\", \"Manager\", \n",
        "         \"Senior Manager\", \"Director\", \"Senior Director\",\n",
        "         \"VP\")\n",
        "plt.xticks(label, nomes)\n",
        "\n",
        "## Colocar os valores no Gráfico:\n",
        "ini = -.25\n",
        "for i in lst:\n",
        "  plt.text(ini, i, str(i))\n",
        "  ini += 1\n",
        "##################################\n",
        "plt.grid()\n",
        "plt.show()"
      ],
      "execution_count": null,
      "outputs": [
        {
          "output_type": "display_data",
          "data": {
            "image/png": "[encoded data removed]",
            "text/plain": [
              "<Figure size 432x288 with 1 Axes>"
            ]
          },
          "metadata": {
            "tags": [],
            "needs_background": "light"
          }
        }
      ]
    },
    {
      "cell_type": "markdown",
      "metadata": {
        "id": "F0V6EifjQinU",
        "colab_type": "text"
      },
      "source": [
        "Entre aquelas pessoas de salário **médio**, não há uma discrepância entre gêneros e cargos ocupados na empresa. No entanto, diferentemente daqueles de salário **alto**, há um número de mulheres ocupando o cargo de Vice-Presidente maior do que homens. "
      ]
    },
    {
      "cell_type": "code",
      "metadata": {
        "id": "h99u1FkYep6L",
        "colab_type": "code",
        "colab": {
          "base_uri": "https://localhost:8080/",
          "height": 34
        },
        "outputId": "b8297f1f-f78f-4706-f315-e886f1447419"
      },
      "source": [
        "# Filtrando apenas por aqueles que tem salário baixo:\n",
        "db_sal_baixo = db[(db[\"salary\"] == \"low\")]\n",
        "\n",
        "# Conferindo se foram filtrados apenas aqueles com salários médios:\n",
        "db_sal_baixo[\"salary\"].unique().tolist()"
      ],
      "execution_count": null,
      "outputs": [
        {
          "output_type": "execute_result",
          "data": {
            "text/plain": [
              "['low']"
            ]
          },
          "metadata": {
            "tags": []
          },
          "execution_count": 58
        }
      ]
    },
    {
      "cell_type": "code",
      "metadata": {
        "id": "Zu_E93aPfTSq",
        "colab_type": "code",
        "colab": {
          "base_uri": "https://localhost:8080/",
          "height": 297
        },
        "outputId": "f760ca44-6bb5-453a-e802-805de0c3d1bb"
      },
      "source": [
        "# Tabela\n",
        "tab_sal_baixo = pd.crosstab(db_sal_baixo[\"role_novo\"], db_sal_baixo[\"gender\"], margins = False)\n",
        "tab_sal_baixo"
      ],
      "execution_count": null,
      "outputs": [
        {
          "output_type": "execute_result",
          "data": {
            "text/html": [
              "<div>\n",
              "<style scoped>\n",
              "    .dataframe tbody tr th:only-of-type {\n",
              "        vertical-align: middle;\n",
              "    }\n",
              "\n",
              "    .dataframe tbody tr th {\n",
              "        vertical-align: top;\n",
              "    }\n",
              "\n",
              "    .dataframe thead th {\n",
              "        text-align: right;\n",
              "    }\n",
              "</style>\n",
              "<table border=\"1\" class=\"dataframe\">\n",
              "  <thead>\n",
              "    <tr style=\"text-align: right;\">\n",
              "      <th>gender</th>\n",
              "      <th>F</th>\n",
              "      <th>M</th>\n",
              "    </tr>\n",
              "    <tr>\n",
              "      <th>role_novo</th>\n",
              "      <th></th>\n",
              "      <th></th>\n",
              "    </tr>\n",
              "  </thead>\n",
              "  <tbody>\n",
              "    <tr>\n",
              "      <th>1 - Level 1</th>\n",
              "      <td>820</td>\n",
              "      <td>811</td>\n",
              "    </tr>\n",
              "    <tr>\n",
              "      <th>2 - Level 2-4</th>\n",
              "      <td>1663</td>\n",
              "      <td>1681</td>\n",
              "    </tr>\n",
              "    <tr>\n",
              "      <th>3 - Manager</th>\n",
              "      <td>580</td>\n",
              "      <td>571</td>\n",
              "    </tr>\n",
              "    <tr>\n",
              "      <th>4 - Senior Manager</th>\n",
              "      <td>344</td>\n",
              "      <td>308</td>\n",
              "    </tr>\n",
              "    <tr>\n",
              "      <th>5 - Director</th>\n",
              "      <td>164</td>\n",
              "      <td>149</td>\n",
              "    </tr>\n",
              "    <tr>\n",
              "      <th>6 - Senior Director</th>\n",
              "      <td>89</td>\n",
              "      <td>84</td>\n",
              "    </tr>\n",
              "    <tr>\n",
              "      <th>7 - VP</th>\n",
              "      <td>24</td>\n",
              "      <td>28</td>\n",
              "    </tr>\n",
              "  </tbody>\n",
              "</table>\n",
              "</div>"
            ],
            "text/plain": [
              "gender                  F     M\n",
              "role_novo                      \n",
              "1 - Level 1           820   811\n",
              "2 - Level 2-4        1663  1681\n",
              "3 - Manager           580   571\n",
              "4 - Senior Manager    344   308\n",
              "5 - Director          164   149\n",
              "6 - Senior Director    89    84\n",
              "7 - VP                 24    28"
            ]
          },
          "metadata": {
            "tags": []
          },
          "execution_count": 59
        }
      ]
    },
    {
      "cell_type": "code",
      "metadata": {
        "id": "JUJ_lS3Cfjxg",
        "colab_type": "code",
        "colab": {
          "base_uri": "https://localhost:8080/",
          "height": 297
        },
        "outputId": "67c7f57d-7df0-4098-de95-118f724536ac"
      },
      "source": [
        "## Se quiser uma tabela com porcentagens ##\n",
        "tab_sal_baixo_prcnt = pd.crosstab(db_sal_baixo[\"role_novo\"], db_sal_baixo[\"gender\"], margins = False, normalize= True)\n",
        "tab_sal_baixo_prcnt"
      ],
      "execution_count": null,
      "outputs": [
        {
          "output_type": "execute_result",
          "data": {
            "text/html": [
              "<div>\n",
              "<style scoped>\n",
              "    .dataframe tbody tr th:only-of-type {\n",
              "        vertical-align: middle;\n",
              "    }\n",
              "\n",
              "    .dataframe tbody tr th {\n",
              "        vertical-align: top;\n",
              "    }\n",
              "\n",
              "    .dataframe thead th {\n",
              "        text-align: right;\n",
              "    }\n",
              "</style>\n",
              "<table border=\"1\" class=\"dataframe\">\n",
              "  <thead>\n",
              "    <tr style=\"text-align: right;\">\n",
              "      <th>gender</th>\n",
              "      <th>F</th>\n",
              "      <th>M</th>\n",
              "    </tr>\n",
              "    <tr>\n",
              "      <th>role_novo</th>\n",
              "      <th></th>\n",
              "      <th></th>\n",
              "    </tr>\n",
              "  </thead>\n",
              "  <tbody>\n",
              "    <tr>\n",
              "      <th>1 - Level 1</th>\n",
              "      <td>0.112083</td>\n",
              "      <td>0.110853</td>\n",
              "    </tr>\n",
              "    <tr>\n",
              "      <th>2 - Level 2-4</th>\n",
              "      <td>0.227310</td>\n",
              "      <td>0.229770</td>\n",
              "    </tr>\n",
              "    <tr>\n",
              "      <th>3 - Manager</th>\n",
              "      <td>0.079278</td>\n",
              "      <td>0.078048</td>\n",
              "    </tr>\n",
              "    <tr>\n",
              "      <th>4 - Senior Manager</th>\n",
              "      <td>0.047020</td>\n",
              "      <td>0.042100</td>\n",
              "    </tr>\n",
              "    <tr>\n",
              "      <th>5 - Director</th>\n",
              "      <td>0.022417</td>\n",
              "      <td>0.020366</td>\n",
              "    </tr>\n",
              "    <tr>\n",
              "      <th>6 - Senior Director</th>\n",
              "      <td>0.012165</td>\n",
              "      <td>0.011482</td>\n",
              "    </tr>\n",
              "    <tr>\n",
              "      <th>7 - VP</th>\n",
              "      <td>0.003280</td>\n",
              "      <td>0.003827</td>\n",
              "    </tr>\n",
              "  </tbody>\n",
              "</table>\n",
              "</div>"
            ],
            "text/plain": [
              "gender                      F         M\n",
              "role_novo                              \n",
              "1 - Level 1          0.112083  0.110853\n",
              "2 - Level 2-4        0.227310  0.229770\n",
              "3 - Manager          0.079278  0.078048\n",
              "4 - Senior Manager   0.047020  0.042100\n",
              "5 - Director         0.022417  0.020366\n",
              "6 - Senior Director  0.012165  0.011482\n",
              "7 - VP               0.003280  0.003827"
            ]
          },
          "metadata": {
            "tags": []
          },
          "execution_count": 60
        }
      ]
    },
    {
      "cell_type": "code",
      "metadata": {
        "id": "4w1JSUF3h4dv",
        "colab_type": "code",
        "colab": {
          "base_uri": "https://localhost:8080/",
          "height": 136
        },
        "outputId": "e1191a42-4658-4625-8166-c29ac1b70cf3"
      },
      "source": [
        "dict(db_sal_baixo[\"role_novo\"].value_counts())\n"
      ],
      "execution_count": null,
      "outputs": [
        {
          "output_type": "execute_result",
          "data": {
            "text/plain": [
              "{'1 - Level 1': 1631,\n",
              " '2 - Level 2-4': 3344,\n",
              " '3 - Manager': 1151,\n",
              " '4 - Senior Manager': 652,\n",
              " '5 - Director': 313,\n",
              " '6 - Senior Director': 173,\n",
              " '7 - VP': 52}"
            ]
          },
          "metadata": {
            "tags": []
          },
          "execution_count": 61
        }
      ]
    },
    {
      "cell_type": "code",
      "metadata": {
        "id": "MaKx_zKziMaa",
        "colab_type": "code",
        "colab": {}
      },
      "source": [
        "lst = [1631, 3344, 1151, 651, 313, 173, 52]"
      ],
      "execution_count": null,
      "outputs": []
    },
    {
      "cell_type": "code",
      "metadata": {
        "id": "B51vPMkLgVSD",
        "colab_type": "code",
        "colab": {
          "base_uri": "https://localhost:8080/",
          "height": 351
        },
        "outputId": "aaf4b803-f9e8-4e5d-b138-26b0afec58a4"
      },
      "source": [
        "# Gráfico\n",
        "pd.crosstab(db_sal_baixo[\"role_novo\"], db_sal_baixo[\"gender\"]).plot(kind = \"bar\", stacked = True)\n",
        "plt.xlabel(\"Cargo na Empresa\") # Novo Label para o Eixo X\n",
        "plt.ylabel(\"Número de Pessoas\") # Novo Label para o Eixo Y\n",
        "label = list(range(0, 7)) # Valores para, junto de \"nomes\", mudar os NOMES das categorias do Eixo X\n",
        "nomes = (\"Level 1\", \"Level 2-4\", \"Manager\", \n",
        "         \"Senior Manager\", \"Director\", \"Senior Director\",\n",
        "         \"VP\")\n",
        "plt.xticks(label, nomes) # Mudar os nomes das categorias do Eixo X\n",
        "####\n",
        "ini = -.25\n",
        "for i in lst:\n",
        "  plt.text(ini, i, str(i))\n",
        "  ini += 1\n",
        "## Colocar os valores no Gráfico:\n",
        "\n",
        "##################################\n",
        "plt.grid() # plotar a \"grade\", as linhas por trás do gráfico;\n",
        "plt.show()"
      ],
      "execution_count": null,
      "outputs": [
        {
          "output_type": "display_data",
          "data": {
            "image/png": "[encoded data removed]",
            "text/plain": [
              "<Figure size 432x288 with 1 Axes>"
            ]
          },
          "metadata": {
            "tags": [],
            "needs_background": "light"
          }
        }
      ]
    },
    {
      "cell_type": "markdown",
      "metadata": {
        "id": "9LmDsuctjwug",
        "colab_type": "text"
      },
      "source": [
        "Analisando os dados, através do gráfico e das tabelas, posso concluir que não há uma diferença significativa entre aqueles Gênero e Cargo na Empresa, entre os que possuem um salário baixo. \n",
        "\n",
        "Parece não haver uma relação entre gênero e cargo nas diferentes faixas de salário. No entanto, vale a pena ressaltar que, no caso dos salários altos, no que diz respeito ao cargo de Vice-Presidente, temos o dobro de homens que recebem salários altos em relação as mulheres. "
      ]
    },
    {
      "cell_type": "markdown",
      "metadata": {
        "id": "0MiYXDmkNfb2",
        "colab_type": "text"
      },
      "source": [
        "### 4) Tempo de Empresa e se Recebeu Promoção (nos últimos 5 anos)"
      ]
    },
    {
      "cell_type": "markdown",
      "metadata": {
        "id": "xl0Twn3_NsQJ",
        "colab_type": "text"
      },
      "source": [
        "Aqui irei verificar se há alguma relação entre o tempo de empresa e se a pessoa recebeu alguma promoção (nos ultimos 5 anos).\n",
        "\n",
        "O senso comum pode, muitas vezes, relacionar tempo de empresa com promoção. Aqui verificarei se isso acontece no nosso banco."
      ]
    },
    {
      "cell_type": "code",
      "metadata": {
        "id": "tXKpzTTJjbry",
        "colab_type": "code",
        "colab": {
          "base_uri": "https://localhost:8080/",
          "height": 34
        },
        "outputId": "ac41383c-97c6-4814-8495-b1037add5e35"
      },
      "source": [
        "# Verificando os valores únicos:\n",
        "print(db[\"promotion_last_5years\"].unique().tolist())"
      ],
      "execution_count": null,
      "outputs": [
        {
          "output_type": "stream",
          "text": [
            "[0, 1]\n"
          ],
          "name": "stdout"
        }
      ]
    },
    {
      "cell_type": "code",
      "metadata": {
        "id": "NyLm0_IYTOb4",
        "colab_type": "code",
        "colab": {
          "base_uri": "https://localhost:8080/",
          "height": 173
        },
        "outputId": "a260590a-30e2-4c8c-ecb1-412dcddf05e3"
      },
      "source": [
        "# Tabela:\n",
        "prom_time = pd.crosstab(db.promotion_last_5years, db.time_spend_company, margins = True)\n",
        "prom_time_prcnt = pd.crosstab(db.promotion_last_5years, db.time_spend_company, margins = True, normalize = True)\n",
        "\n",
        "prom_time"
      ],
      "execution_count": null,
      "outputs": [
        {
          "output_type": "execute_result",
          "data": {
            "text/html": [
              "<div>\n",
              "<style scoped>\n",
              "    .dataframe tbody tr th:only-of-type {\n",
              "        vertical-align: middle;\n",
              "    }\n",
              "\n",
              "    .dataframe tbody tr th {\n",
              "        vertical-align: top;\n",
              "    }\n",
              "\n",
              "    .dataframe thead th {\n",
              "        text-align: right;\n",
              "    }\n",
              "</style>\n",
              "<table border=\"1\" class=\"dataframe\">\n",
              "  <thead>\n",
              "    <tr style=\"text-align: right;\">\n",
              "      <th>time_spend_company</th>\n",
              "      <th>2</th>\n",
              "      <th>3</th>\n",
              "      <th>4</th>\n",
              "      <th>5</th>\n",
              "      <th>6</th>\n",
              "      <th>7</th>\n",
              "      <th>8</th>\n",
              "      <th>10</th>\n",
              "      <th>All</th>\n",
              "    </tr>\n",
              "    <tr>\n",
              "      <th>promotion_last_5years</th>\n",
              "      <th></th>\n",
              "      <th></th>\n",
              "      <th></th>\n",
              "      <th></th>\n",
              "      <th></th>\n",
              "      <th></th>\n",
              "      <th></th>\n",
              "      <th></th>\n",
              "      <th></th>\n",
              "    </tr>\n",
              "  </thead>\n",
              "  <tbody>\n",
              "    <tr>\n",
              "      <th>0</th>\n",
              "      <td>3190</td>\n",
              "      <td>6309</td>\n",
              "      <td>2522</td>\n",
              "      <td>1456</td>\n",
              "      <td>701</td>\n",
              "      <td>152</td>\n",
              "      <td>152</td>\n",
              "      <td>198</td>\n",
              "      <td>14680</td>\n",
              "    </tr>\n",
              "    <tr>\n",
              "      <th>1</th>\n",
              "      <td>54</td>\n",
              "      <td>134</td>\n",
              "      <td>35</td>\n",
              "      <td>17</td>\n",
              "      <td>17</td>\n",
              "      <td>36</td>\n",
              "      <td>10</td>\n",
              "      <td>16</td>\n",
              "      <td>319</td>\n",
              "    </tr>\n",
              "    <tr>\n",
              "      <th>All</th>\n",
              "      <td>3244</td>\n",
              "      <td>6443</td>\n",
              "      <td>2557</td>\n",
              "      <td>1473</td>\n",
              "      <td>718</td>\n",
              "      <td>188</td>\n",
              "      <td>162</td>\n",
              "      <td>214</td>\n",
              "      <td>14999</td>\n",
              "    </tr>\n",
              "  </tbody>\n",
              "</table>\n",
              "</div>"
            ],
            "text/plain": [
              "time_spend_company        2     3     4     5    6    7    8   10    All\n",
              "promotion_last_5years                                                   \n",
              "0                      3190  6309  2522  1456  701  152  152  198  14680\n",
              "1                        54   134    35    17   17   36   10   16    319\n",
              "All                    3244  6443  2557  1473  718  188  162  214  14999"
            ]
          },
          "metadata": {
            "tags": []
          },
          "execution_count": 65
        }
      ]
    },
    {
      "cell_type": "code",
      "metadata": {
        "id": "zXzJ3aCbTvEI",
        "colab_type": "code",
        "colab": {
          "base_uri": "https://localhost:8080/",
          "height": 173
        },
        "outputId": "b8461366-9000-43f7-856e-da0e880d721a"
      },
      "source": [
        "prom_time_prcnt # porcentagem"
      ],
      "execution_count": null,
      "outputs": [
        {
          "output_type": "execute_result",
          "data": {
            "text/html": [
              "<div>\n",
              "<style scoped>\n",
              "    .dataframe tbody tr th:only-of-type {\n",
              "        vertical-align: middle;\n",
              "    }\n",
              "\n",
              "    .dataframe tbody tr th {\n",
              "        vertical-align: top;\n",
              "    }\n",
              "\n",
              "    .dataframe thead th {\n",
              "        text-align: right;\n",
              "    }\n",
              "</style>\n",
              "<table border=\"1\" class=\"dataframe\">\n",
              "  <thead>\n",
              "    <tr style=\"text-align: right;\">\n",
              "      <th>time_spend_company</th>\n",
              "      <th>2</th>\n",
              "      <th>3</th>\n",
              "      <th>4</th>\n",
              "      <th>5</th>\n",
              "      <th>6</th>\n",
              "      <th>7</th>\n",
              "      <th>8</th>\n",
              "      <th>10</th>\n",
              "      <th>All</th>\n",
              "    </tr>\n",
              "    <tr>\n",
              "      <th>promotion_last_5years</th>\n",
              "      <th></th>\n",
              "      <th></th>\n",
              "      <th></th>\n",
              "      <th></th>\n",
              "      <th></th>\n",
              "      <th></th>\n",
              "      <th></th>\n",
              "      <th></th>\n",
              "      <th></th>\n",
              "    </tr>\n",
              "  </thead>\n",
              "  <tbody>\n",
              "    <tr>\n",
              "      <th>0</th>\n",
              "      <td>0.212681</td>\n",
              "      <td>0.420628</td>\n",
              "      <td>0.168145</td>\n",
              "      <td>0.097073</td>\n",
              "      <td>0.046736</td>\n",
              "      <td>0.010134</td>\n",
              "      <td>0.010134</td>\n",
              "      <td>0.013201</td>\n",
              "      <td>0.978732</td>\n",
              "    </tr>\n",
              "    <tr>\n",
              "      <th>1</th>\n",
              "      <td>0.003600</td>\n",
              "      <td>0.008934</td>\n",
              "      <td>0.002333</td>\n",
              "      <td>0.001133</td>\n",
              "      <td>0.001133</td>\n",
              "      <td>0.002400</td>\n",
              "      <td>0.000667</td>\n",
              "      <td>0.001067</td>\n",
              "      <td>0.021268</td>\n",
              "    </tr>\n",
              "    <tr>\n",
              "      <th>All</th>\n",
              "      <td>0.216281</td>\n",
              "      <td>0.429562</td>\n",
              "      <td>0.170478</td>\n",
              "      <td>0.098207</td>\n",
              "      <td>0.047870</td>\n",
              "      <td>0.012534</td>\n",
              "      <td>0.010801</td>\n",
              "      <td>0.014268</td>\n",
              "      <td>1.000000</td>\n",
              "    </tr>\n",
              "  </tbody>\n",
              "</table>\n",
              "</div>"
            ],
            "text/plain": [
              "time_spend_company            2         3  ...        10       All\n",
              "promotion_last_5years                      ...                    \n",
              "0                      0.212681  0.420628  ...  0.013201  0.978732\n",
              "1                      0.003600  0.008934  ...  0.001067  0.021268\n",
              "All                    0.216281  0.429562  ...  0.014268  1.000000\n",
              "\n",
              "[3 rows x 9 columns]"
            ]
          },
          "metadata": {
            "tags": []
          },
          "execution_count": 66
        }
      ]
    },
    {
      "cell_type": "code",
      "metadata": {
        "id": "WjkFMQcmT7Vi",
        "colab_type": "code",
        "colab": {}
      },
      "source": [
        "# Agora vou criar um SUBSET com apenas os que foram promovidos (promotion_last_5years = 1)\n",
        "db_prom = db[(db[\"promotion_last_5years\"] == 1)]"
      ],
      "execution_count": null,
      "outputs": []
    },
    {
      "cell_type": "code",
      "metadata": {
        "id": "a6mSFUckUho0",
        "colab_type": "code",
        "colab": {
          "base_uri": "https://localhost:8080/",
          "height": 34
        },
        "outputId": "17006367-b247-4729-a525-6fd804d0d81c"
      },
      "source": [
        "dict(db_prom[\"time_spend_company\"].value_counts())"
      ],
      "execution_count": null,
      "outputs": [
        {
          "output_type": "execute_result",
          "data": {
            "text/plain": [
              "{2: 54, 3: 134, 4: 35, 5: 17, 6: 17, 7: 36, 8: 10, 10: 16}"
            ]
          },
          "metadata": {
            "tags": []
          },
          "execution_count": 68
        }
      ]
    },
    {
      "cell_type": "code",
      "metadata": {
        "id": "iWeYv27AU0pa",
        "colab_type": "code",
        "colab": {}
      },
      "source": [
        "lst = [54, 134, 35, 17, 17, 36, 10, 16]"
      ],
      "execution_count": null,
      "outputs": []
    },
    {
      "cell_type": "code",
      "metadata": {
        "id": "tXXqCSiNUO4J",
        "colab_type": "code",
        "colab": {
          "base_uri": "https://localhost:8080/",
          "height": 279
        },
        "outputId": "e9babf78-c6ca-408e-f6bc-3c200119a58c"
      },
      "source": [
        "# Plotar Gráfico:\n",
        "pd.crosstab(db_prom.promotion_last_5years, db.time_spend_company).plot(kind=\"bar\")\n",
        "plt.xlabel(\"Recebeu Promoção (Nos ultimos anos)\")\n",
        "plt.ylabel(\"Número de Pessoas\")\n",
        "plt.grid()\n",
        "plt.show()"
      ],
      "execution_count": null,
      "outputs": [
        {
          "output_type": "display_data",
          "data": {
            "image/png": "[encoded data removed]",
            "text/plain": [
              "<Figure size 432x288 with 1 Axes>"
            ]
          },
          "metadata": {
            "tags": [],
            "needs_background": "light"
          }
        }
      ]
    },
    {
      "cell_type": "markdown",
      "metadata": {
        "id": "K2dn4h09X1dd",
        "colab_type": "text"
      },
      "source": [
        "Com os dados acima, podemos ver que, das pessoas que receberam promoções nos últimos 5 anos, a maioria possuía 3 anos de empresa. Como estão classificados os salários dessas pessoas promovidas?"
      ]
    },
    {
      "cell_type": "code",
      "metadata": {
        "id": "qpkEyCYqX1NG",
        "colab_type": "code",
        "colab": {
          "base_uri": "https://localhost:8080/",
          "height": 173
        },
        "outputId": "f61f31cb-ec0c-440c-efaa-6dc375d9286a"
      },
      "source": [
        "# Tabelas\n",
        "prom_sal = pd.crosstab(db.promotion_last_5years, db.salary, margins = True)\n",
        "prom_sal"
      ],
      "execution_count": null,
      "outputs": [
        {
          "output_type": "execute_result",
          "data": {
            "text/html": [
              "<div>\n",
              "<style scoped>\n",
              "    .dataframe tbody tr th:only-of-type {\n",
              "        vertical-align: middle;\n",
              "    }\n",
              "\n",
              "    .dataframe tbody tr th {\n",
              "        vertical-align: top;\n",
              "    }\n",
              "\n",
              "    .dataframe thead th {\n",
              "        text-align: right;\n",
              "    }\n",
              "</style>\n",
              "<table border=\"1\" class=\"dataframe\">\n",
              "  <thead>\n",
              "    <tr style=\"text-align: right;\">\n",
              "      <th>salary</th>\n",
              "      <th>high</th>\n",
              "      <th>low</th>\n",
              "      <th>medium</th>\n",
              "      <th>All</th>\n",
              "    </tr>\n",
              "    <tr>\n",
              "      <th>promotion_last_5years</th>\n",
              "      <th></th>\n",
              "      <th></th>\n",
              "      <th></th>\n",
              "      <th></th>\n",
              "    </tr>\n",
              "  </thead>\n",
              "  <tbody>\n",
              "    <tr>\n",
              "      <th>0</th>\n",
              "      <td>1165</td>\n",
              "      <td>7250</td>\n",
              "      <td>6265</td>\n",
              "      <td>14680</td>\n",
              "    </tr>\n",
              "    <tr>\n",
              "      <th>1</th>\n",
              "      <td>72</td>\n",
              "      <td>66</td>\n",
              "      <td>181</td>\n",
              "      <td>319</td>\n",
              "    </tr>\n",
              "    <tr>\n",
              "      <th>All</th>\n",
              "      <td>1237</td>\n",
              "      <td>7316</td>\n",
              "      <td>6446</td>\n",
              "      <td>14999</td>\n",
              "    </tr>\n",
              "  </tbody>\n",
              "</table>\n",
              "</div>"
            ],
            "text/plain": [
              "salary                 high   low  medium    All\n",
              "promotion_last_5years                           \n",
              "0                      1165  7250    6265  14680\n",
              "1                        72    66     181    319\n",
              "All                    1237  7316    6446  14999"
            ]
          },
          "metadata": {
            "tags": []
          },
          "execution_count": 71
        }
      ]
    },
    {
      "cell_type": "code",
      "metadata": {
        "id": "wnG3E9muY4OG",
        "colab_type": "code",
        "colab": {
          "base_uri": "https://localhost:8080/",
          "height": 173
        },
        "outputId": "d4e215a8-ee88-4ed1-e30f-7666306d483b"
      },
      "source": [
        "prom_sal_prcnt = pd.crosstab(db.promotion_last_5years, db.salary, margins = True, normalize = True)\n",
        "prom_sal_prcnt"
      ],
      "execution_count": null,
      "outputs": [
        {
          "output_type": "execute_result",
          "data": {
            "text/html": [
              "<div>\n",
              "<style scoped>\n",
              "    .dataframe tbody tr th:only-of-type {\n",
              "        vertical-align: middle;\n",
              "    }\n",
              "\n",
              "    .dataframe tbody tr th {\n",
              "        vertical-align: top;\n",
              "    }\n",
              "\n",
              "    .dataframe thead th {\n",
              "        text-align: right;\n",
              "    }\n",
              "</style>\n",
              "<table border=\"1\" class=\"dataframe\">\n",
              "  <thead>\n",
              "    <tr style=\"text-align: right;\">\n",
              "      <th>salary</th>\n",
              "      <th>high</th>\n",
              "      <th>low</th>\n",
              "      <th>medium</th>\n",
              "      <th>All</th>\n",
              "    </tr>\n",
              "    <tr>\n",
              "      <th>promotion_last_5years</th>\n",
              "      <th></th>\n",
              "      <th></th>\n",
              "      <th></th>\n",
              "      <th></th>\n",
              "    </tr>\n",
              "  </thead>\n",
              "  <tbody>\n",
              "    <tr>\n",
              "      <th>0</th>\n",
              "      <td>0.077672</td>\n",
              "      <td>0.483366</td>\n",
              "      <td>0.417695</td>\n",
              "      <td>0.978732</td>\n",
              "    </tr>\n",
              "    <tr>\n",
              "      <th>1</th>\n",
              "      <td>0.004800</td>\n",
              "      <td>0.004400</td>\n",
              "      <td>0.012067</td>\n",
              "      <td>0.021268</td>\n",
              "    </tr>\n",
              "    <tr>\n",
              "      <th>All</th>\n",
              "      <td>0.082472</td>\n",
              "      <td>0.487766</td>\n",
              "      <td>0.429762</td>\n",
              "      <td>1.000000</td>\n",
              "    </tr>\n",
              "  </tbody>\n",
              "</table>\n",
              "</div>"
            ],
            "text/plain": [
              "salary                     high       low    medium       All\n",
              "promotion_last_5years                                        \n",
              "0                      0.077672  0.483366  0.417695  0.978732\n",
              "1                      0.004800  0.004400  0.012067  0.021268\n",
              "All                    0.082472  0.487766  0.429762  1.000000"
            ]
          },
          "metadata": {
            "tags": []
          },
          "execution_count": 72
        }
      ]
    },
    {
      "cell_type": "markdown",
      "metadata": {
        "id": "QDR73_GgZOK5",
        "colab_type": "text"
      },
      "source": [
        "Podemos ver que a soma da quantidade de pessoas promovidas com salários classificados como baixo e médio é maior quee aqueles classificados como alto. O fato da pessoa ter sido promovida mas possuir salário classificado como baixo, pode influenciar sua saída da empresa?"
      ]
    },
    {
      "cell_type": "code",
      "metadata": {
        "id": "kYdyXHslZUgn",
        "colab_type": "code",
        "colab": {
          "base_uri": "https://localhost:8080/",
          "height": 289
        },
        "outputId": "5d09ca54-8386-421f-b0e6-f3d1ce52a418"
      },
      "source": [
        "# Gráficos:\n",
        "## 1) Receber (ou não) promoções e Salário \n",
        "pd.crosstab(db.promotion_last_5years, db.salary).plot(kind=\"bar\")\n",
        "plt.xlabel(\"Recebeu Promoção\")\n",
        "plt.ylabel(\"Número de Pessoas\")\n",
        "pos = (0, 1)\n",
        "nome = (\"Não\", \"Sim\")\n",
        "plt.xticks(pos, nome)\n",
        "plt.grid()\n",
        "plt.show()"
      ],
      "execution_count": null,
      "outputs": [
        {
          "output_type": "display_data",
          "data": {
            "image/png": "[encoded data removed]",
            "text/plain": [
              "<Figure size 432x288 with 1 Axes>"
            ]
          },
          "metadata": {
            "tags": [],
            "needs_background": "light"
          }
        }
      ]
    },
    {
      "cell_type": "code",
      "metadata": {
        "id": "dzdlXNrbaNx5",
        "colab_type": "code",
        "colab": {
          "base_uri": "https://localhost:8080/",
          "height": 34
        },
        "outputId": "9accbe41-fda7-4fcc-f0df-41ee984e016b"
      },
      "source": [
        "dict(db_prom.salary.value_counts())"
      ],
      "execution_count": null,
      "outputs": [
        {
          "output_type": "execute_result",
          "data": {
            "text/plain": [
              "{'high': 72, 'low': 66, 'medium': 181}"
            ]
          },
          "metadata": {
            "tags": []
          },
          "execution_count": 74
        }
      ]
    },
    {
      "cell_type": "code",
      "metadata": {
        "id": "W0DVMlFVarEo",
        "colab_type": "code",
        "colab": {}
      },
      "source": [
        "lst = [72, 66, 181]"
      ],
      "execution_count": null,
      "outputs": []
    },
    {
      "cell_type": "code",
      "metadata": {
        "id": "3OGi5H-GZ5Qm",
        "colab_type": "code",
        "colab": {
          "base_uri": "https://localhost:8080/",
          "height": 276
        },
        "outputId": "456fcd19-506f-4f2a-f698-625b02cb24bb"
      },
      "source": [
        "## 2) Recebeu promoção e Salário:\n",
        "pd.crosstab(db_prom.promotion_last_5years, db_prom.salary).plot(kind = \"bar\")\n",
        "plt.xlabel(\"Recebeu Promoção\")\n",
        "plt.ylabel(\"Número de Pessoas\")\n",
        "inic = -0.20\n",
        "for i in lst:\n",
        "  plt.text(inic, i, str(i))\n",
        "  inic += 0.16\n",
        "plt.grid()\n",
        "plt.show()\n"
      ],
      "execution_count": null,
      "outputs": [
        {
          "output_type": "display_data",
          "data": {
            "image/png": "[encoded data removed]",
            "text/plain": [
              "<Figure size 432x288 with 1 Axes>"
            ]
          },
          "metadata": {
            "tags": [],
            "needs_background": "light"
          }
        }
      ]
    },
    {
      "cell_type": "code",
      "metadata": {
        "id": "eGztSc32b0Uk",
        "colab_type": "code",
        "colab": {
          "base_uri": "https://localhost:8080/",
          "height": 34
        },
        "outputId": "0698a2b9-e313-47c3-9ec0-2b23a9adc8c4"
      },
      "source": [
        "# Agora, para ver se aquelas pessoas que RECEBERAM promoção, mas possuem salarios baixos ou médios sairam mais da empresa, irei fazer um subset:\n",
        "db_left = db[(db[\"left_company\"] == 1)]\n",
        "db_left.shape"
      ],
      "execution_count": null,
      "outputs": [
        {
          "output_type": "execute_result",
          "data": {
            "text/plain": [
              "(3571, 68)"
            ]
          },
          "metadata": {
            "tags": []
          },
          "execution_count": 77
        }
      ]
    },
    {
      "cell_type": "code",
      "metadata": {
        "id": "ElAgmau3gTxP",
        "colab_type": "code",
        "colab": {
          "base_uri": "https://localhost:8080/",
          "height": 204
        },
        "outputId": "16b254cb-a5fb-4a82-94d6-b3230c778368"
      },
      "source": [
        "left_prom_sal = pd.crosstab(db_left.promotion_last_5years, db_left.salary, margins = True)\n",
        "left_prom_sal_prcnt = pd.crosstab(db_left.promotion_last_5years, db_left.salary, margins = True, normalize = True)\n",
        "\n",
        "print(left_prom_sal)\n",
        "print(\"_\" * 65)\n",
        "print(left_prom_sal_prcnt)"
      ],
      "execution_count": null,
      "outputs": [
        {
          "output_type": "stream",
          "text": [
            "salary                 high   low  medium   All\n",
            "promotion_last_5years                          \n",
            "0                        82  2158    1312  3552\n",
            "1                         0    14       5    19\n",
            "All                      82  2172    1317  3571\n",
            "_________________________________________________________________\n",
            "salary                     high       low    medium       All\n",
            "promotion_last_5years                                        \n",
            "0                      0.022963  0.604313  0.367404  0.994679\n",
            "1                      0.000000  0.003920  0.001400  0.005321\n",
            "All                    0.022963  0.608233  0.368804  1.000000\n"
          ],
          "name": "stdout"
        }
      ]
    },
    {
      "cell_type": "markdown",
      "metadata": {
        "id": "jalhryH-bzz0",
        "colab_type": "text"
      },
      "source": [
        "Podemos ver que ninguem com salário classificado como alto, que teve alguma promoção nos últimos 5 anos, deixou empresa. A grande maioria (que deixou a empresa) estava com salário classificado como baixo, apesar das diferenças não serem grandes."
      ]
    },
    {
      "cell_type": "markdown",
      "metadata": {
        "id": "2cdFf-ZBg6B4",
        "colab_type": "text"
      },
      "source": [
        "### **5**) Sair da Empresa e Ter Sido Promovido"
      ]
    },
    {
      "cell_type": "markdown",
      "metadata": {
        "id": "9syAyvlDhElo",
        "colab_type": "text"
      },
      "source": [
        "Agora iremos ver se há uma relação entre ter saido da empresa e ter recebido uma promoção."
      ]
    },
    {
      "cell_type": "code",
      "metadata": {
        "id": "5flVtuqSg3Qi",
        "colab_type": "code",
        "colab": {
          "base_uri": "https://localhost:8080/",
          "height": 276
        },
        "outputId": "5407ed80-6a67-484e-ab9b-d4fa9754078b"
      },
      "source": [
        "# Fazendo um subset para pegar APENAS aqueles que já sairam da empresa e que foram promovidos nos ultimos 5 anos\n",
        "db_left_prom = db[(db[\"left_company\"] == 1) & (db[\"promotion_last_5years\"] == 1)] # Subsetting\n",
        "db_left_prom[\"left_company\"].unique().tolist() # Verificando os valores únicos, para ver se o subsetting deu certo\n",
        "db_left_prom[\"promotion_last_5years\"].unique().tolist() \n"
      ],
      "execution_count": null,
      "outputs": [
        {
          "output_type": "display_data",
          "data": {
            "image/png": "[encoded data removed]",
            "text/plain": [
              "<Figure size 432x288 with 1 Axes>"
            ]
          },
          "metadata": {
            "tags": [],
            "needs_background": "light"
          }
        }
      ]
    },
    {
      "cell_type": "code",
      "metadata": {
        "id": "PgjGR7pvwBwn",
        "colab_type": "code",
        "colab": {}
      },
      "source": [
        "dict(db_left_prom[\"salary\"].value_counts())\n",
        "lst = [14, 5]"
      ],
      "execution_count": null,
      "outputs": []
    },
    {
      "cell_type": "code",
      "metadata": {
        "id": "TlkHZfggv_Cy",
        "colab_type": "code",
        "colab": {
          "base_uri": "https://localhost:8080/",
          "height": 276
        },
        "outputId": "475db51e-9548-418f-ce3f-4a492b021066"
      },
      "source": [
        "# Gráfico\n",
        "pd.crosstab(db_left_prom.promotion_last_5years, db_left_prom.salary).plot(kind = \"bar\") # Plotando um gráfico para verificar\n",
        "plt.xlabel(\"Recebeu Promoção\")\n",
        "plt.ylabel(\"Numero de Pessoas\")\n",
        "inic = -0.15\n",
        "for i in lst:\n",
        "  plt.text(inic, i, i)\n",
        "  inic += 0.30\n",
        "plt.grid()\n",
        "plt.show()"
      ],
      "execution_count": null,
      "outputs": [
        {
          "output_type": "display_data",
          "data": {
            "image/png": "[encoded data removed]",
            "text/plain": [
              "<Figure size 432x288 with 1 Axes>"
            ]
          },
          "metadata": {
            "tags": [],
            "needs_background": "light"
          }
        }
      ]
    },
    {
      "cell_type": "markdown",
      "metadata": {
        "id": "JQF0DM-OuhqR",
        "colab_type": "text"
      },
      "source": [
        "Podemos observar que, das pessoas que saíram da empresa e que receberam promoções nos ultimos 5 anos, nenhuma possuia salário alto, havendo apenas pessoas com salários considerados baixos e medianos;"
      ]
    },
    {
      "cell_type": "markdown",
      "metadata": {
        "id": "RuNUz5nTxQjA",
        "colab_type": "text"
      },
      "source": [
        "### **6)** Avaliação do Funcionário e Quantidade de Projetos \n",
        "\n",
        "Existe alguma relação entre a avaliação do colaborador e a quantidade de projetos em que ele atua?\n"
      ]
    },
    {
      "cell_type": "code",
      "metadata": {
        "id": "iahDiU5qxfSX",
        "colab_type": "code",
        "colab": {}
      },
      "source": [
        "# Primeiro Passo: criar uma função para transformar a variável \"avaliação do funcionário\" em uma variável categórica, contendo diferentes \"faixas\"\n",
        "# de pontuação:\n",
        "def av_cat(x):\n",
        "    if 0.3 < x < 0.4:\n",
        "        return \"0.3 - 0.4\"\n",
        "    if 0.4 <= x < 0.5:\n",
        "        return \"0.4 - 0.5\"\n",
        "    if 0.5 <= x < 0.6:\n",
        "        return \"0.5 - 0.6\"\n",
        "    if 0.6 <= x < 0.7:\n",
        "        return \"0.6 - 0.7\"\n",
        "    if 0.7 <= x < 0.8:\n",
        "        return \"0.7 - 0.8\"\n",
        "    if 0.8 <= x < 0.9:\n",
        "        return \"0.8 - 0.9\"\n",
        "    elif x >= 0.9:\n",
        "        return \"0.9 - 1\""
      ],
      "execution_count": null,
      "outputs": []
    },
    {
      "cell_type": "code",
      "metadata": {
        "id": "j8uH5Dc1xumR",
        "colab_type": "code",
        "colab": {
          "base_uri": "https://localhost:8080/",
          "height": 318
        },
        "outputId": "9ea946fb-2711-4ad6-d1ca-83bce95ea429"
      },
      "source": [
        "db['cat_eval'] = db['last_evaluation'].apply(av_cat) # Aplicando a função e criando uma nova variável\n",
        "proj_eval = pd.crosstab(db.cat_eval, db.number_project, margins = True, normalize = True) # Crosstab para veriricar a distribuição das variáveis\n",
        "proj_eval\n"
      ],
      "execution_count": null,
      "outputs": [
        {
          "output_type": "execute_result",
          "data": {
            "text/html": [
              "<div>\n",
              "<style scoped>\n",
              "    .dataframe tbody tr th:only-of-type {\n",
              "        vertical-align: middle;\n",
              "    }\n",
              "\n",
              "    .dataframe tbody tr th {\n",
              "        vertical-align: top;\n",
              "    }\n",
              "\n",
              "    .dataframe thead th {\n",
              "        text-align: right;\n",
              "    }\n",
              "</style>\n",
              "<table border=\"1\" class=\"dataframe\">\n",
              "  <thead>\n",
              "    <tr style=\"text-align: right;\">\n",
              "      <th>number_project</th>\n",
              "      <th>2</th>\n",
              "      <th>3</th>\n",
              "      <th>4</th>\n",
              "      <th>5</th>\n",
              "      <th>6</th>\n",
              "      <th>7</th>\n",
              "      <th>All</th>\n",
              "    </tr>\n",
              "    <tr>\n",
              "      <th>cat_eval</th>\n",
              "      <th></th>\n",
              "      <th></th>\n",
              "      <th></th>\n",
              "      <th></th>\n",
              "      <th></th>\n",
              "      <th></th>\n",
              "      <th></th>\n",
              "    </tr>\n",
              "  </thead>\n",
              "  <tbody>\n",
              "    <tr>\n",
              "      <th>0.3 - 0.4</th>\n",
              "      <td>0.002734</td>\n",
              "      <td>0.003134</td>\n",
              "      <td>0.001933</td>\n",
              "      <td>0.002400</td>\n",
              "      <td>0.001733</td>\n",
              "      <td>0.000000</td>\n",
              "      <td>0.011934</td>\n",
              "    </tr>\n",
              "    <tr>\n",
              "      <th>0.4 - 0.5</th>\n",
              "      <td>0.046070</td>\n",
              "      <td>0.017334</td>\n",
              "      <td>0.016068</td>\n",
              "      <td>0.008334</td>\n",
              "      <td>0.004334</td>\n",
              "      <td>0.000467</td>\n",
              "      <td>0.092606</td>\n",
              "    </tr>\n",
              "    <tr>\n",
              "      <th>0.5 - 0.6</th>\n",
              "      <td>0.074605</td>\n",
              "      <td>0.051937</td>\n",
              "      <td>0.051737</td>\n",
              "      <td>0.027135</td>\n",
              "      <td>0.005734</td>\n",
              "      <td>0.000467</td>\n",
              "      <td>0.211614</td>\n",
              "    </tr>\n",
              "    <tr>\n",
              "      <th>0.6 - 0.7</th>\n",
              "      <td>0.010134</td>\n",
              "      <td>0.054937</td>\n",
              "      <td>0.050203</td>\n",
              "      <td>0.027468</td>\n",
              "      <td>0.006600</td>\n",
              "      <td>0.000133</td>\n",
              "      <td>0.149477</td>\n",
              "    </tr>\n",
              "    <tr>\n",
              "      <th>0.7 - 0.8</th>\n",
              "      <td>0.010601</td>\n",
              "      <td>0.049537</td>\n",
              "      <td>0.048870</td>\n",
              "      <td>0.029202</td>\n",
              "      <td>0.011801</td>\n",
              "      <td>0.001667</td>\n",
              "      <td>0.151677</td>\n",
              "    </tr>\n",
              "    <tr>\n",
              "      <th>0.8 - 0.9</th>\n",
              "      <td>0.006934</td>\n",
              "      <td>0.045270</td>\n",
              "      <td>0.057737</td>\n",
              "      <td>0.040336</td>\n",
              "      <td>0.026135</td>\n",
              "      <td>0.007067</td>\n",
              "      <td>0.183479</td>\n",
              "    </tr>\n",
              "    <tr>\n",
              "      <th>0.9 - 1</th>\n",
              "      <td>0.008134</td>\n",
              "      <td>0.048203</td>\n",
              "      <td>0.064471</td>\n",
              "      <td>0.049203</td>\n",
              "      <td>0.021935</td>\n",
              "      <td>0.007267</td>\n",
              "      <td>0.199213</td>\n",
              "    </tr>\n",
              "    <tr>\n",
              "      <th>All</th>\n",
              "      <td>0.159211</td>\n",
              "      <td>0.270351</td>\n",
              "      <td>0.291019</td>\n",
              "      <td>0.184079</td>\n",
              "      <td>0.078272</td>\n",
              "      <td>0.017068</td>\n",
              "      <td>1.000000</td>\n",
              "    </tr>\n",
              "  </tbody>\n",
              "</table>\n",
              "</div>"
            ],
            "text/plain": [
              "number_project         2         3         4  ...         6         7       All\n",
              "cat_eval                                      ...                              \n",
              "0.3 - 0.4       0.002734  0.003134  0.001933  ...  0.001733  0.000000  0.011934\n",
              "0.4 - 0.5       0.046070  0.017334  0.016068  ...  0.004334  0.000467  0.092606\n",
              "0.5 - 0.6       0.074605  0.051937  0.051737  ...  0.005734  0.000467  0.211614\n",
              "0.6 - 0.7       0.010134  0.054937  0.050203  ...  0.006600  0.000133  0.149477\n",
              "0.7 - 0.8       0.010601  0.049537  0.048870  ...  0.011801  0.001667  0.151677\n",
              "0.8 - 0.9       0.006934  0.045270  0.057737  ...  0.026135  0.007067  0.183479\n",
              "0.9 - 1         0.008134  0.048203  0.064471  ...  0.021935  0.007267  0.199213\n",
              "All             0.159211  0.270351  0.291019  ...  0.078272  0.017068  1.000000\n",
              "\n",
              "[8 rows x 7 columns]"
            ]
          },
          "metadata": {
            "tags": []
          },
          "execution_count": 100
        }
      ]
    },
    {
      "cell_type": "code",
      "metadata": {
        "id": "59-cwmlbx8g2",
        "colab_type": "code",
        "colab": {
          "base_uri": "https://localhost:8080/",
          "height": 311
        },
        "outputId": "225cdf50-f781-4811-ba9c-a256f4253044"
      },
      "source": [
        "# Plotando um Gráfico:\n",
        "pd.crosstab(db.cat_eval, db.number_project).plot(kind = \"bar\")\n",
        "plt.xlabel(\"Avaliação dos Funcionários\")\n",
        "plt.ylabel(\"Número de Pessoas\")\n",
        "plt.grid()\n",
        "plt.show()"
      ],
      "execution_count": null,
      "outputs": [
        {
          "output_type": "display_data",
          "data": {
            "image/png": "[encoded data removed]",
            "text/plain": [
              "<Figure size 432x288 with 1 Axes>"
            ]
          },
          "metadata": {
            "tags": [],
            "needs_background": "light"
          }
        }
      ]
    },
    {
      "cell_type": "markdown",
      "metadata": {
        "id": "GEG15Gg-yN0-",
        "colab_type": "text"
      },
      "source": [
        "Podemos observar que a maioria das pessoas que estão em 6 ou 7 projetos são aquelas que foram avaliadas nas faixas mais altas de notas. Diante disso podemos perceber uma relação entre a avaliação recebida e a quantidade de projetos que o colaborador atua."
      ]
    },
    {
      "cell_type": "markdown",
      "metadata": {
        "id": "RkSD30Ckya3s",
        "colab_type": "text"
      },
      "source": [
        "### **7)** Porcentagem de Trabalho Home Office e Quantidade de Projetos\n",
        "\n",
        "Podemos encontrar alguma relação entre o trabalho remoto e aumento da produtividade? Espera-se que o ambiente de trabalho home office permita com que as pessoas sejam mais produtivas, otimizando seu tempo e sua produtivade."
      ]
    },
    {
      "cell_type": "code",
      "metadata": {
        "id": "M7VHuSAGytVN",
        "colab_type": "code",
        "colab": {
          "base_uri": "https://localhost:8080/",
          "height": 228
        },
        "outputId": "1ec46b7c-fe4e-4fd8-e314-4f046a16c842"
      },
      "source": [
        "# Criando uma crosstable entre as variáveis \"number_project\" e \"percent_remote\"\n",
        "proj_remote = pd.crosstab(db.percent_remote, db.number_project, margins = True, normalize = True)\n",
        "proj_remote"
      ],
      "execution_count": null,
      "outputs": [
        {
          "output_type": "execute_result",
          "data": {
            "text/html": [
              "<div>\n",
              "<style scoped>\n",
              "    .dataframe tbody tr th:only-of-type {\n",
              "        vertical-align: middle;\n",
              "    }\n",
              "\n",
              "    .dataframe tbody tr th {\n",
              "        vertical-align: top;\n",
              "    }\n",
              "\n",
              "    .dataframe thead th {\n",
              "        text-align: right;\n",
              "    }\n",
              "</style>\n",
              "<table border=\"1\" class=\"dataframe\">\n",
              "  <thead>\n",
              "    <tr style=\"text-align: right;\">\n",
              "      <th>number_project</th>\n",
              "      <th>2</th>\n",
              "      <th>3</th>\n",
              "      <th>4</th>\n",
              "      <th>5</th>\n",
              "      <th>6</th>\n",
              "      <th>7</th>\n",
              "      <th>All</th>\n",
              "    </tr>\n",
              "    <tr>\n",
              "      <th>percent_remote</th>\n",
              "      <th></th>\n",
              "      <th></th>\n",
              "      <th></th>\n",
              "      <th></th>\n",
              "      <th></th>\n",
              "      <th></th>\n",
              "      <th></th>\n",
              "    </tr>\n",
              "  </thead>\n",
              "  <tbody>\n",
              "    <tr>\n",
              "      <th>0.4</th>\n",
              "      <td>0.129075</td>\n",
              "      <td>0.102407</td>\n",
              "      <td>0.099273</td>\n",
              "      <td>0.053870</td>\n",
              "      <td>0.015801</td>\n",
              "      <td>0.001067</td>\n",
              "      <td>0.401493</td>\n",
              "    </tr>\n",
              "    <tr>\n",
              "      <th>0.5</th>\n",
              "      <td>0.004867</td>\n",
              "      <td>0.028269</td>\n",
              "      <td>0.023935</td>\n",
              "      <td>0.014001</td>\n",
              "      <td>0.003067</td>\n",
              "      <td>0.000000</td>\n",
              "      <td>0.074138</td>\n",
              "    </tr>\n",
              "    <tr>\n",
              "      <th>0.8</th>\n",
              "      <td>0.025202</td>\n",
              "      <td>0.139676</td>\n",
              "      <td>0.167611</td>\n",
              "      <td>0.115674</td>\n",
              "      <td>0.059404</td>\n",
              "      <td>0.016001</td>\n",
              "      <td>0.523568</td>\n",
              "    </tr>\n",
              "    <tr>\n",
              "      <th>1.0</th>\n",
              "      <td>0.000067</td>\n",
              "      <td>0.000000</td>\n",
              "      <td>0.000200</td>\n",
              "      <td>0.000533</td>\n",
              "      <td>0.000000</td>\n",
              "      <td>0.000000</td>\n",
              "      <td>0.000800</td>\n",
              "    </tr>\n",
              "    <tr>\n",
              "      <th>All</th>\n",
              "      <td>0.159211</td>\n",
              "      <td>0.270351</td>\n",
              "      <td>0.291019</td>\n",
              "      <td>0.184079</td>\n",
              "      <td>0.078272</td>\n",
              "      <td>0.017068</td>\n",
              "      <td>1.000000</td>\n",
              "    </tr>\n",
              "  </tbody>\n",
              "</table>\n",
              "</div>"
            ],
            "text/plain": [
              "number_project         2         3         4  ...         6         7       All\n",
              "percent_remote                                ...                              \n",
              "0.4             0.129075  0.102407  0.099273  ...  0.015801  0.001067  0.401493\n",
              "0.5             0.004867  0.028269  0.023935  ...  0.003067  0.000000  0.074138\n",
              "0.8             0.025202  0.139676  0.167611  ...  0.059404  0.016001  0.523568\n",
              "1.0             0.000067  0.000000  0.000200  ...  0.000000  0.000000  0.000800\n",
              "All             0.159211  0.270351  0.291019  ...  0.078272  0.017068  1.000000\n",
              "\n",
              "[5 rows x 7 columns]"
            ]
          },
          "metadata": {
            "tags": []
          },
          "execution_count": 103
        }
      ]
    },
    {
      "cell_type": "code",
      "metadata": {
        "id": "F2JPcYGPy2mp",
        "colab_type": "code",
        "colab": {
          "base_uri": "https://localhost:8080/",
          "height": 286
        },
        "outputId": "786de528-1d1e-4385-9fee-2ce9e18772f1"
      },
      "source": [
        "# Plotando um boxplot para ajudar a encontar uma relação:\n",
        "sns.boxplot(x=db.percent_remote, y=db.number_project, data=pd.melt(db))\n",
        "plt.xlabel(\"Porcentagem do Trabalho feito Remotamente\")\n",
        "plt.ylabel(\"Número de Projetos em que a Pessoa Trabalha\")\n",
        "valores = [0, 1, 2, 3]\n",
        "lab = [\"40%\", \"50%\", \"80%\", \"100%\"]\n",
        "plt.xticks(valores, lab)\n",
        "plt.grid()\n",
        "plt.show()"
      ],
      "execution_count": null,
      "outputs": [
        {
          "output_type": "display_data",
          "data": {
            "image/png": "[encoded data removed]",
            "text/plain": [
              "<Figure size 432x288 with 1 Axes>"
            ]
          },
          "metadata": {
            "tags": [],
            "needs_background": "light"
          }
        }
      ]
    },
    {
      "cell_type": "markdown",
      "metadata": {
        "id": "ccuzpjMNzkWK",
        "colab_type": "text"
      },
      "source": [
        "Podemos propor a partir da análise do gráfico, que pessoas que atuam mais tempo no modelo de trabalho homeoffice, tendem a atuar em maiores quantidades de projetos."
      ]
    }
  ]
}