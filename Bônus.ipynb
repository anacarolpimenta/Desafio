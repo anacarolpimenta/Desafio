{
  "nbformat": 4,
  "nbformat_minor": 0,
  "metadata": {
    "colab": {
      "name": "Bonus (1).ipynb",
      "provenance": [],
      "collapsed_sections": [
        "P9UIk67la5LT",
        "7rIIgIItbw-3",
        "MEFdvh_4b2aD"
      ]
    },
    "kernelspec": {
      "name": "python3",
      "display_name": "Python 3"
    }
  },
  "cells": [
    {
      "cell_type": "markdown",
      "metadata": {
        "id": "aHMti7pchYH7",
        "colab_type": "text"
      },
      "source": [
        "# Bônus\n",
        "\n",
        "Análise de variáveis utilizando o modelo de regressão logística.\n",
        "\n",
        "Nossa intenção, com essa análise, é identificar as variáveis que influenciam na saída, ou não, de um colaborador. Uma vez identificadas as variáveis relevantes, a empresa poderia traçar um plano de ação em cima delas, que visasse reter talentos e evitar um grande turnover."
      ]
    },
    {
      "cell_type": "markdown",
      "metadata": {
        "id": "pE_HWPREhX2I",
        "colab_type": "text"
      },
      "source": [
        "### Carregar os pacotes necessários"
      ]
    },
    {
      "cell_type": "code",
      "metadata": {
        "id": "8Vc3Sb74G2oC",
        "colab_type": "code",
        "colab": {}
      },
      "source": [
        "import pandas as pd\n",
        "import numpy as np\n",
        "import statsmodels.api as sm\n",
        "import statsmodels.formula.api as smf\n"
      ],
      "execution_count": null,
      "outputs": []
    },
    {
      "cell_type": "code",
      "metadata": {
        "id": "NYzh2iXMtBph",
        "colab_type": "code",
        "colab": {
          "base_uri": "https://localhost:8080/",
          "height": 238
        },
        "outputId": "55616317-e053-47a0-83aa-51dbb6088937"
      },
      "source": [
        "# Carregando o banco de dados do Github\n",
        "\n",
        "url = 'https://raw.github.com/anacarolpimenta/Desafio-Rocketmat/master/HR_Engagement_Sat_Sales_UpdatedV4.0.csv'\n",
        "db2 = pd.read_csv(url, sep = \",\", usecols = ['Role','Percent_Remote',\n",
        "                'last_evaluation','number_project','time_spend_company',\n",
        "                'salary','LinkedIn_Hits','promotion_last_5years',\n",
        "                'Emp_Title','Emp_Role','Emp_Position','average_montly_hours',\n",
        "                \"left_Company\"]) \n",
        "\n",
        "db2.columns = db2.columns.str.lower() # Mudando todas as letras para minusculas\n",
        "for columns in db2.columns:\n",
        "  print(columns)"
      ],
      "execution_count": null,
      "outputs": [
        {
          "output_type": "stream",
          "text": [
            "role\n",
            "percent_remote\n",
            "last_evaluation\n",
            "number_project\n",
            "average_montly_hours\n",
            "time_spend_company\n",
            "left_company\n",
            "promotion_last_5years\n",
            "salary\n",
            "linkedin_hits\n",
            "emp_role\n",
            "emp_position\n",
            "emp_title\n"
          ],
          "name": "stdout"
        }
      ]
    },
    {
      "cell_type": "markdown",
      "metadata": {
        "id": "qqcdb7bTVqUu",
        "colab_type": "text"
      },
      "source": [
        "Para a Regressão Logística, iremos trabalhar com o banco de dados já pré-selecionado (durante o processo do modelo de redes neurais).\n",
        "\n"
      ]
    },
    {
      "cell_type": "markdown",
      "metadata": {
        "id": "Og25X5IfWAuA",
        "colab_type": "text"
      },
      "source": [
        "Antes de realizar a Regressão, irei, novamente, recodificar as variáveis. Para a regressão logística, trabalharemos com as seguintes variávels independentes e dependente:\n",
        "\n",
        "\n",
        "**Variável Dependente**: \n",
        "> \"left_company\" (sair da empresa)\n",
        ">> Transformarei a variável em categórica (0 e 1);\n",
        "\n",
        "\n",
        "**Variáveis Independentes**:\n",
        "*   \"role\" - Papel na Empresa (*categórica*)\n",
        "*   \"percent_remote\" - Percentual do Trabalho feito de Home Office (*categórica*)\n",
        "*   \"last_evaluation\" - Resultado na última avaliação (*contínua*)\n",
        "*   \"number_project\" - Número de projetos (*discreta*)\n",
        "*   \"average_montly_hours\" - Média de horas trabalhadas por mês (*discreta*)\n",
        "*   \"time_spend_company\" - Anos na empresa (*discreta*)\n",
        "*   \"promotion_last_5years\" - Se foi promovido nos últimos 5 anos (*categórica*)\n",
        "*   \"salary\" - Salário (*categórica*)\n",
        "*   \"linkedin_hits\" - Número de vezes que acessa o LinkedIn no computador da empresa (*contínua*)\n",
        "*   \"emp_role\" - Como o trabalhador se identifica com a importância da sua função na empresa (*categórica/ordinal*)\n",
        "*   \"emp_position\" - Como o trabalhador se identifica com a importância da sua posição na empresa (*categórica/ordinal*)\n",
        "*   \"emp_title\" - Como o trabalhador se sente quanto a seu \"título\" na empresa (*categórica/ordinal*)\n",
        "\n",
        "\n",
        "\n"
      ]
    },
    {
      "cell_type": "markdown",
      "metadata": {
        "id": "P9UIk67la5LT",
        "colab_type": "text"
      },
      "source": [
        "### 1) Tratar as variáveis que serão usadas:\n",
        "\n",
        "Aqui irei tratar as variáveis, fazer as recodificações necessárias. Preparar os dados para a Regressão\n"
      ]
    },
    {
      "cell_type": "markdown",
      "metadata": {
        "id": "7rIIgIItbw-3",
        "colab_type": "text"
      },
      "source": [
        "#### Variável Dependente:"
      ]
    },
    {
      "cell_type": "code",
      "metadata": {
        "id": "JeqEvdE9ZcoG",
        "colab_type": "code",
        "colab": {}
      },
      "source": [
        "## Variável Dependente:\n",
        "db2[\"left_company_cat\"] = db2[\"left_company\"].astype(\"category\")"
      ],
      "execution_count": null,
      "outputs": []
    },
    {
      "cell_type": "markdown",
      "metadata": {
        "id": "MEFdvh_4b2aD",
        "colab_type": "text"
      },
      "source": [
        "#### Variáveis Independentes:"
      ]
    },
    {
      "cell_type": "code",
      "metadata": {
        "id": "p9MdUxE7bu13",
        "colab_type": "code",
        "colab": {}
      },
      "source": [
        "\n",
        "## Variável Independente:\n",
        "### \"role\":\n",
        "sorted(db2[\"role\"].unique().tolist()) # Verificando os valores únicos:\n",
        "\n",
        "# Reordenar nossa variável \"role\" do menor nível para o maior:\n",
        "niveis = {'Director': \"5 - Director\",\n",
        "          'Level 1': \"1 - Level 1\",\n",
        "          'Level 2-4':\"2 - Level 2-4\",\n",
        "          'Manager': \"3 - Manager\",\n",
        "          'Senior Director': \"6 - Senior Director\",\n",
        "          'Senior Manager': \"4 - Senior manager\",\n",
        "          'VP': \"7 - VP\"}\n",
        "db2['new_role'] = db2['role'].map(niveis) # Recodificando a variável\n",
        "sorted(db2[\"new_role\"].unique()) # Conferindo se foi feita a mudança\n",
        "\n",
        "db2[\"new_role\"] = db2[\"new_role\"].astype(\"category\") # Transformando em variável categórica;\n"
      ],
      "execution_count": null,
      "outputs": []
    },
    {
      "cell_type": "code",
      "metadata": {
        "id": "g-LmjMm8b-pj",
        "colab_type": "code",
        "colab": {}
      },
      "source": [
        "### \"salary\"\n",
        "\n",
        "sorted(db2[\"salary\"].unique().tolist()) # Conferindo os valores únicos\n",
        "\n",
        "# Reordenando os níveis do mais baixo para o mais alto\n",
        "nivel_sal = {'high': \"3 - Alto\", 'low': \"1 - Baixo\", 'medium': \"2 - Medio\"}\n",
        "db2[\"new_sal\"] = db2[\"salary\"].map(nivel_sal)\n",
        "sorted(db2[\"new_sal\"].unique().tolist()) # Conferindo as alterações\n",
        "\n",
        "db2[\"new_sal\"] = db2[\"new_sal\"].astype(\"category\") # Transformando em variável categórica;\n"
      ],
      "execution_count": null,
      "outputs": []
    },
    {
      "cell_type": "code",
      "metadata": {
        "id": "Gw5O3vLocS3n",
        "colab_type": "code",
        "colab": {}
      },
      "source": [
        "### \"percent_remote\"\n",
        "\n",
        "sorted(db2[\"percent_remote\"].unique().tolist()) # Conferindo os valores únicos\n",
        "\n",
        "nivel_percent = {0.4: \"1 - 40%\", 0.5: \"2 - 50%\", 0.8: \"3 - 80%\", 1:\"4 - 100%\"} # Estabelecendo novos valores;\n",
        "db2[\"new_percent_remote\"] = db2[\"percent_remote\"].map(nivel_percent) \n",
        "sorted(db2[\"new_percent_remote\"].unique().tolist()) # Conferindo as alterações feitas;\n",
        "\n",
        "\n",
        "db2[\"new_percent_remote\"] = db2[\"new_percent_remote\"].astype(\"category\") # Transformando em categórica"
      ],
      "execution_count": null,
      "outputs": []
    },
    {
      "cell_type": "code",
      "metadata": {
        "id": "G4B0oY3-emCw",
        "colab_type": "code",
        "colab": {
          "base_uri": "https://localhost:8080/",
          "height": 187
        },
        "outputId": "4be603fb-e0de-445d-a50e-4a8ed67f9a39"
      },
      "source": [
        "### \"promotion_last_5years\"\n",
        "\n",
        "print(sorted(db2[\"promotion_last_5years\"].unique().tolist()))\n",
        "\n",
        "print(pd.crosstab(index = db2[\"promotion_last_5years\"], columns = \"Contagem\"))\n",
        "### A partir da tabela, interpretarei o 0 como sendo \"não recebeu\" e o 1 como sendo \"recebeu\"\n",
        "#### Aqui quero identificar o impacto de NÃO ter recebido promoção\n",
        "\n",
        "# Criando uma função para possibilitar recodificar a variável:\n",
        "def prom(x): \n",
        "  if x == 1:\n",
        "    return 0\n",
        "  elif x == 0:\n",
        "    return 1\n",
        "\n",
        "# Aplicando a função:\n",
        "db2[\"prom_last_5y\"] = db2[\"promotion_last_5years\"].apply(prom)\n",
        "\n",
        "print(\"_\" * 30) # Linha para separar os \"prints\" anteriores\n",
        "print(pd.crosstab(index = db2[\"prom_last_5y\"], columns = \"Contagem\")) # Tabela para conferir;\n",
        "\n",
        "db2[\"prom_last_5y\"] = db2[\"prom_last_5y\"].astype(\"category\") # Transformando em categórica"
      ],
      "execution_count": null,
      "outputs": [
        {
          "output_type": "stream",
          "text": [
            "[0, 1]\n",
            "col_0                  Contagem\n",
            "promotion_last_5years          \n",
            "0                         14680\n",
            "1                           319\n",
            "______________________________\n",
            "col_0         Contagem\n",
            "prom_last_5y          \n",
            "0                  319\n",
            "1                14680\n"
          ],
          "name": "stdout"
        }
      ]
    },
    {
      "cell_type": "markdown",
      "metadata": {
        "id": "5X1VbIdedTS1",
        "colab_type": "text"
      },
      "source": [
        "### 2) Criando o Modelo de Regressão Logística"
      ]
    },
    {
      "cell_type": "code",
      "metadata": {
        "id": "cJxQLyD6KvJt",
        "colab_type": "code",
        "colab": {}
      },
      "source": [
        "# Criando o \"modelo\", que receberá a formula, as variáveis e depois iremos roda-lo;\n",
        "modelo = smf.glm(formula = 'left_company_cat ~ new_role + new_percent_remote + last_evaluation + number_project + average_montly_hours + time_spend_company + prom_last_5y + new_sal + linkedin_hits + emp_role + emp_position + emp_title',\n",
        "                 data = db2, family = sm.families.Binomial()).fit()"
      ],
      "execution_count": null,
      "outputs": []
    },
    {
      "cell_type": "markdown",
      "metadata": {
        "id": "RL2NjVdsdiZ8",
        "colab_type": "text"
      },
      "source": [
        "Com o modelo criado e treinado, agora iremos ver um \"summary\" para verificar quais variáveis se mostraram estatisticamente significantes para prever a saída do funcionário da empresa;"
      ]
    },
    {
      "cell_type": "code",
      "metadata": {
        "id": "QrViiV5iLtre",
        "colab_type": "code",
        "colab": {
          "base_uri": "https://localhost:8080/",
          "height": 629
        },
        "outputId": "9d1fa5cf-4ed5-4b2b-bada-b99f409f43ac"
      },
      "source": [
        "print(modelo.summary())"
      ],
      "execution_count": null,
      "outputs": [
        {
          "output_type": "stream",
          "text": [
            "                               Generalized Linear Model Regression Results                                \n",
            "==========================================================================================================\n",
            "Dep. Variable:     ['left_company_cat[0]', 'left_company_cat[1]']   No. Observations:                14999\n",
            "Model:                                                        GLM   Df Residuals:                    14978\n",
            "Model Family:                                            Binomial   Df Model:                           20\n",
            "Link Function:                                              logit   Scale:                          1.0000\n",
            "Method:                                                      IRLS   Log-Likelihood:                -4834.8\n",
            "Date:                                            Mon, 10 Aug 2020   Deviance:                       9669.6\n",
            "Time:                                                    00:11:02   Pearson chi2:                 1.83e+04\n",
            "No. Iterations:                                                21                                         \n",
            "Covariance Type:                                        nonrobust                                         \n",
            "===================================================================================================\n",
            "                                      coef    std err          z      P>|z|      [0.025      0.975]\n",
            "---------------------------------------------------------------------------------------------------\n",
            "Intercept                          -7.3327      0.413    -17.772      0.000      -8.141      -6.524\n",
            "new_role[T.2 - Level 2-4]          -0.0276      0.066     -0.416      0.677      -0.158       0.102\n",
            "new_role[T.3 - Manager]             0.0597      0.084      0.708      0.479      -0.106       0.225\n",
            "new_role[T.4 - Senior manager]      0.0676      0.103      0.660      0.510      -0.133       0.269\n",
            "new_role[T.5 - Director]           -0.0852      0.133     -0.638      0.523      -0.347       0.176\n",
            "new_role[T.6 - Senior Director]    -0.0603      0.183     -0.329      0.742      -0.419       0.298\n",
            "new_role[T.7 - VP]                 -0.5557      0.298     -1.864      0.062      -1.140       0.028\n",
            "new_percent_remote[T.2 - 50%]       2.9228      0.221     13.241      0.000       2.490       3.355\n",
            "new_percent_remote[T.3 - 80%]      -3.9479      0.162    -24.391      0.000      -4.265      -3.631\n",
            "new_percent_remote[T.4 - 100%]    -25.2839   1.27e+04     -0.002      0.998   -2.49e+04    2.49e+04\n",
            "prom_last_5y[T.1]                  -0.1544      0.299     -0.516      0.606      -0.741       0.432\n",
            "new_sal[T.2 - Medio]                0.3129      0.054      5.819      0.000       0.208       0.418\n",
            "new_sal[T.3 - Alto]                 1.6270      0.135     12.021      0.000       1.362       1.892\n",
            "last_evaluation                     0.6494      0.368      1.762      0.078      -0.073       1.372\n",
            "number_project                      0.5472      0.026     20.894      0.000       0.496       0.599\n",
            "average_montly_hours                0.0026      0.001      4.143      0.000       0.001       0.004\n",
            "time_spend_company                 -0.1356      0.019     -7.098      0.000      -0.173      -0.098\n",
            "linkedin_hits                    5.441e-05      0.002      0.031      0.976      -0.003       0.004\n",
            "emp_role                            1.5038      0.046     32.830      0.000       1.414       1.594\n",
            "emp_position                        1.3968      0.049     28.694      0.000       1.301       1.492\n",
            "emp_title                           1.3812      0.049     28.099      0.000       1.285       1.478\n",
            "===================================================================================================\n"
          ],
          "name": "stdout"
        }
      ]
    },
    {
      "cell_type": "markdown",
      "metadata": {
        "id": "Eaz106e7d2qq",
        "colab_type": "text"
      },
      "source": [
        "Aqui, se analisarmos a coluna \"P>|z|\" podemos ver quais variáveis foram estatisticamente significativas, com um p-valor abaixo de 0.05, adotando 95% de confiança. Abaixo trago as variáveis que ***NÃO*** foram significativas:\n",
        "\n",
        "\n",
        "\n",
        "*   \"new_role\" - Variável \"role\": Cargo na empresa\n",
        "*   \"last_evaluation\": Ultim avaliação;\n",
        "*   \"promotion_last_5years\": Foi promovido nos ultimos 5 anos;\n",
        "*   \"linkedin_hits\": Quantas vezes acessa o linkedin no computador da empresa\n",
        "\n"
      ]
    },
    {
      "cell_type": "code",
      "metadata": {
        "id": "ssvVfc_uQc7G",
        "colab_type": "code",
        "colab": {
          "base_uri": "https://localhost:8080/",
          "height": 374
        },
        "outputId": "ca17ee34-dc05-4bc9-bfe7-cc2ac680a79a"
      },
      "source": [
        "# Aqui irei trazer a exponencial dos valores (para podermos ter a razão de chance), subtraida de 1 e multiplicada por 100:\n",
        "# Assim, temos a porcentagem dos valores\n",
        "(np.exp(modelo.params[1:]) - 1) * 100"
      ],
      "execution_count": null,
      "outputs": [
        {
          "output_type": "execute_result",
          "data": {
            "text/plain": [
              "new_role[T.2 - Level 2-4]            -2.723162\n",
              "new_role[T.3 - Manager]               6.154275\n",
              "new_role[T.4 - Senior manager]        6.994010\n",
              "new_role[T.5 - Director]             -8.166493\n",
              "new_role[T.6 - Senior Director]      -5.849770\n",
              "new_role[T.7 - VP]                  -42.630885\n",
              "new_percent_remote[T.2 - 50%]      1759.280727\n",
              "new_percent_remote[T.3 - 80%]       -98.070485\n",
              "new_percent_remote[T.4 - 100%]     -100.000000\n",
              "prom_last_5y[T.1]                   -14.303122\n",
              "new_sal[T.2 - Medio]                 36.737781\n",
              "new_sal[T.3 - Alto]                 408.877527\n",
              "last_evaluation                      91.431806\n",
              "number_project                       72.846917\n",
              "average_montly_hours                  0.256814\n",
              "time_spend_company                  -12.678104\n",
              "linkedin_hits                         0.005441\n",
              "emp_role                            349.874724\n",
              "emp_position                        304.229006\n",
              "emp_title                           297.976820\n",
              "dtype: float64"
            ]
          },
          "metadata": {
            "tags": []
          },
          "execution_count": 11
        }
      ]
    },
    {
      "cell_type": "markdown",
      "metadata": {
        "id": "wRhlIfraia3i",
        "colab_type": "text"
      },
      "source": [
        "Com as informações acima, poderiamos supor algumas coisas. Abaixo trago alguns exemplos que poderiam ser analisados para traçar um plano de ação. Levando em consideração que as informações do Banco são incompletas, faltam descrições e, em muitos casos, não condizem com a realidade (como mostrado na seção de Análise):\n",
        "\n",
        "\n",
        "1.  **O aumento da porcentagem de trabalho feito remotamente diminui a chance de sair da empresa**: Isso poderia estar relacionado ao fato de a pessoa gastar menos tempo no trânsito, ter mais flexibilidade para a resolução de problemas pessoais e mais comodidade. Ao evitar perder tempo no trânsito, é possível otimizar seu tempo e aumentar sua produtividade.\n",
        "\n",
        "2.  **O aumento no número de projetos no qual as pessoas trabalham, influenciam em sua saída**: Isso pode ser justificado por uma possível sobrecarga.\n",
        "\n",
        "3.  **O sentimento em relação a importância do seu papel, trabalho e título na empresa, podem influênciar na decisão de sair**:\n",
        "> As variáveis *emp_role\\position\\title* parecem estar distribuídas de acordo com uma escala Likert de 5 pontos. No entanto, a falta de descrição sobre sua construção, aliado ao resultado da regressão, me fizeram interpreta-la da seguinte maneira:\n",
        "1 - Sentimentos mais Positivos; 5 - Sentimentos mais Negativos\n"
      ]
    }
  ]
}